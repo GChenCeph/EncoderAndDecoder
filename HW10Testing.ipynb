{
 "cells": [
  {
   "cell_type": "code",
   "execution_count": 2,
   "id": "5bd9fb31",
   "metadata": {},
   "outputs": [
    {
     "name": "stdout",
     "output_type": "stream",
     "text": [
      "48285473199682667304272378322453\n",
      "247060927756074998766641721621385\n",
      "50702055818954960207518470082080\n"
     ]
    }
   ],
   "source": [
    "e = 5;\n",
    "N = 1298074214633770354970074384697111;\n",
    "A = 10000000;\n",
    "B = 20000000;\n",
    "C = 30000000;\n",
    "\n",
    "ansA = pow(A, e, N);\n",
    "ansB = pow(B, e, N);\n",
    "ansC = pow(C, e, N);\n",
    "\n",
    "print(ansA);\n",
    "print(ansB);\n",
    "print(ansC);"
   ]
  },
  {
   "cell_type": "code",
   "execution_count": null,
   "id": "5e164074",
   "metadata": {},
   "outputs": [],
   "source": []
  }
 ],
 "metadata": {
  "kernelspec": {
   "display_name": "Python 3 (ipykernel)",
   "language": "python",
   "name": "python3"
  },
  "language_info": {
   "codemirror_mode": {
    "name": "ipython",
    "version": 3
   },
   "file_extension": ".py",
   "mimetype": "text/x-python",
   "name": "python",
   "nbconvert_exporter": "python",
   "pygments_lexer": "ipython3",
   "version": "3.9.7"
  }
 },
 "nbformat": 4,
 "nbformat_minor": 5
}
