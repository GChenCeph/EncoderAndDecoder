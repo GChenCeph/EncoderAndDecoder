{
 "cells": [
  {
   "cell_type": "code",
   "execution_count": 25,
   "id": "4e5bd1a6",
   "metadata": {},
   "outputs": [
    {
     "data": {
      "text/plain": [
       "'EX: p = 11, q = 5, g = 4'"
      ]
     },
     "execution_count": 25,
     "metadata": {},
     "output_type": "execute_result"
    }
   ],
   "source": [
    "from random import SystemRandom\n",
    "\"\"\"EX: p = 11, q = 5, g = 4\"\"\""
   ]
  },
  {
   "cell_type": "code",
   "execution_count": 26,
   "id": "e7f6026c",
   "metadata": {},
   "outputs": [],
   "source": [
    "def extended_euclidean(a,b):\n",
    "    \"\"\"Returns gcd(a,b) along with integers s,t such that gcd(a,b)=as+bt using\n",
    "     the extended euclidean algorithm.\"\"\"\n",
    "\n",
    "    r_old, r = a,b\n",
    "    s_old, s = 1,0\n",
    "    t_old, t = 0,1\n",
    "    while r > 0:\n",
    "        q = r_old // r\n",
    "        r_old, r = r, r_old%r\n",
    "        s_old, s = s, s_old-s*q\n",
    "        t_old, t = t, t_old-t*q\n",
    "    return r_old, s_old, t_old"
   ]
  },
  {
   "cell_type": "code",
   "execution_count": 27,
   "id": "665ea81e",
   "metadata": {},
   "outputs": [],
   "source": [
    "def square_and_multiply(g,x,m):\n",
    "    \"\"\"Returns g^x modulo m using the low-storage square-and-multiply algorithm.\n",
    "    \"\"\"\n",
    "    b = 1\n",
    "    a = g\n",
    "    while x>0:\n",
    "        if x%2 == 1:\n",
    "            b = b*a % m\n",
    "        a = (a**2) % m\n",
    "        x = x // 2\n",
    "    return b"
   ]
  },
  {
   "cell_type": "code",
   "execution_count": 28,
   "id": "e6e17827",
   "metadata": {},
   "outputs": [],
   "source": [
    "def modular_inverse(a,m):\n",
    "    \"\"\"Returns an integer b such that a*b=1 mod m if gcd(a,m)=1\"\"\"\n",
    "    g,s,t = extended_euclidean(a,m)\n",
    "    if g != 1:\n",
    "        raise ValueError('Input must be coprime')\n",
    "    return s%m"
   ]
  },
  {
   "cell_type": "code",
   "execution_count": null,
   "id": "8145b831",
   "metadata": {},
   "outputs": [],
   "source": []
  },
  {
   "cell_type": "code",
   "execution_count": 29,
   "id": "7f06e801",
   "metadata": {},
   "outputs": [],
   "source": [
    "def private_keygen(q):\n",
    "    \"\"\"Returns a random integer a between 0 and q-1 to serve as Alice's private key.\"\"\"\n",
    "    \"\"\"a as private key\"\"\"\n",
    "    \n",
    "    a = SystemRandom().randrange(q)\n",
    "    return a"
   ]
  },
  {
   "cell_type": "code",
   "execution_count": 30,
   "id": "2c0b98cd",
   "metadata": {},
   "outputs": [],
   "source": [
    "def public_keygen(p,g,a):\n",
    "    \"\"\"Returns an integer A, the Elgamal public key A = g^a modulo p.\"\"\"\n",
    "    \n",
    "    A = square_and_multiply(g,a,p)\n",
    "    return A\n",
    "    #b = 1\n",
    "    #c = g\n",
    "    #while a>0:\n",
    "    #    if a%2 == 1:\n",
    "    #        b = b*c % p\n",
    "    #    c = (c**2) % p\n",
    "    #    a = a // 2\n",
    "    #return b"
   ]
  },
  {
   "cell_type": "code",
   "execution_count": 38,
   "id": "1a770ea6",
   "metadata": {},
   "outputs": [],
   "source": [
    "def encrypt(p,g,q,A,m):\n",
    "    \"\"\"Returns the ciphertext c=(c1,c2), the\n",
    "    encryption of the message m using the public\n",
    "    key A (and generator g, prime p).\"\"\"\n",
    "    \n",
    "    k = SystemRandom().randrange(q - 1)\n",
    "    c1 = square_and_multiply(g,k,p)\n",
    "    c2temp1 = m % p\n",
    "    c2temp2 = square_and_multiply(A,k,p)\n",
    "    c2 = c2temp1 * c2temp2 % p\n",
    "    return c1, c2\n",
    "    #k = SystemRandom().randrange(p - 1)\n",
    "    #c1 = (g ** k) % p\n",
    "    #c2 = (m * (A ** k)) % p\n",
    "    #c = (c1, c2)\n",
    "    #return c"
   ]
  },
  {
   "cell_type": "code",
   "execution_count": 43,
   "id": "a6150008",
   "metadata": {},
   "outputs": [],
   "source": [
    "def decrypt(p,g,a,c):\n",
    "    \"\"\"Returns an integer m, the decryption of the ciphertext c under the\n",
    "    Elgamal private key a.\"\"\"\n",
    "    \n",
    "    c1 = c[0]\n",
    "    c2 = c[1]\n",
    "    mtemp1 = square_and_multiply(c1,a,p)\n",
    "    mtemp1 = modular_inverse(mtemp1,p)\n",
    "    mtemp3 = c2 % p\n",
    "    m = (mtemp1 * mtemp3) % p\n",
    "    A = square_and_multiply(g,a,p)\n",
    "    return m\n",
    "    #c1 = c[0]\n",
    "    #c2 = c[1]\n",
    "    #m = (((c1 ** a) ** -1) * c2) % p\n",
    "    #A = (g ** a) % p\n",
    "    #return m, A"
   ]
  },
  {
   "cell_type": "code",
   "execution_count": null,
   "id": "dc3494a8",
   "metadata": {},
   "outputs": [],
   "source": []
  },
  {
   "cell_type": "code",
   "execution_count": 33,
   "id": "afeda1d9",
   "metadata": {},
   "outputs": [],
   "source": [
    "q = 133545598341763522188436601\n",
    "p = 267091196683527044376873203\n",
    "a = 314159265358979323846264\n",
    "g = 4"
   ]
  },
  {
   "cell_type": "code",
   "execution_count": 34,
   "id": "29b4641a",
   "metadata": {},
   "outputs": [
    {
     "data": {
      "text/plain": [
       "133545598341763522188435824"
      ]
     },
     "execution_count": 34,
     "metadata": {},
     "output_type": "execute_result"
    }
   ],
   "source": [
    "plaintext = 'partyatdawn'\n",
    "m = int.from_bytes(plaintext.encode(), byteorder=\"little\")\n",
    "m"
   ]
  },
  {
   "cell_type": "code",
   "execution_count": null,
   "id": "ea2a710a",
   "metadata": {},
   "outputs": [],
   "source": []
  },
  {
   "cell_type": "code",
   "execution_count": 35,
   "id": "21f85643",
   "metadata": {},
   "outputs": [
    {
     "data": {
      "text/plain": [
       "241021575048125368101127802"
      ]
     },
     "execution_count": 35,
     "metadata": {},
     "output_type": "execute_result"
    }
   ],
   "source": [
    "A = public_keygen(p,g,a)\n",
    "A"
   ]
  },
  {
   "cell_type": "code",
   "execution_count": 36,
   "id": "0b07b3a4",
   "metadata": {},
   "outputs": [
    {
     "data": {
      "text/plain": [
       "(113611799577197438345725911, 72351670736832816384541360)"
      ]
     },
     "execution_count": 36,
     "metadata": {},
     "output_type": "execute_result"
    }
   ],
   "source": [
    "c = encrypt(p,g,q,A,m)\n",
    "c"
   ]
  },
  {
   "cell_type": "code",
   "execution_count": 37,
   "id": "4e4db373",
   "metadata": {},
   "outputs": [
    {
     "data": {
      "text/plain": [
       "(133545598341763522188435824, 241021575048125368101127802)"
      ]
     },
     "execution_count": 37,
     "metadata": {},
     "output_type": "execute_result"
    }
   ],
   "source": [
    "decipher = decrypt(p,g,a,c)\n",
    "decipher"
   ]
  },
  {
   "cell_type": "code",
   "execution_count": 14,
   "id": "5500ad91",
   "metadata": {},
   "outputs": [
    {
     "data": {
      "text/plain": [
       "(133545598341763522188435824, 241021575048125368101127802)"
      ]
     },
     "execution_count": 14,
     "metadata": {},
     "output_type": "execute_result"
    }
   ],
   "source": [
    "decipher2 = decrypt(267091196683527044376873203,4,314159265358979323846264,(191368357495253382022548364, 254775943245233958176640340))\n",
    "decipher2"
   ]
  },
  {
   "cell_type": "code",
   "execution_count": 39,
   "id": "943878d7",
   "metadata": {},
   "outputs": [
    {
     "data": {
      "text/plain": [
       "241021575048125368101127802"
      ]
     },
     "execution_count": 39,
     "metadata": {},
     "output_type": "execute_result"
    }
   ],
   "source": [
    "A = public_keygen(p,g,a)\n",
    "A"
   ]
  },
  {
   "cell_type": "code",
   "execution_count": 40,
   "id": "b87c88e7",
   "metadata": {},
   "outputs": [
    {
     "data": {
      "text/plain": [
       "(207936944536347449970862815, 187909065465753643742546259)"
      ]
     },
     "execution_count": 40,
     "metadata": {},
     "output_type": "execute_result"
    }
   ],
   "source": [
    "(c0, c1) = encrypt(p,g,q,A,m)\n",
    "c0, c1"
   ]
  },
  {
   "cell_type": "code",
   "execution_count": 42,
   "id": "a32e68b5",
   "metadata": {},
   "outputs": [
    {
     "data": {
      "text/plain": [
       "(133545598341763522188435824, 241021575048125368101127802)"
      ]
     },
     "execution_count": 42,
     "metadata": {},
     "output_type": "execute_result"
    }
   ],
   "source": [
    "dc = decrypt(p,g,a,(c0,c1))\n",
    "dc"
   ]
  },
  {
   "cell_type": "code",
   "execution_count": 44,
   "id": "467d6a7a",
   "metadata": {},
   "outputs": [
    {
     "data": {
      "text/plain": [
       "True"
      ]
     },
     "execution_count": 44,
     "metadata": {},
     "output_type": "execute_result"
    }
   ],
   "source": [
    "b =  (decrypt(p,g,a,(c0,c1)) == m)\n",
    "b"
   ]
  },
  {
   "cell_type": "code",
   "execution_count": null,
   "id": "3f344f3e",
   "metadata": {},
   "outputs": [],
   "source": []
  }
 ],
 "metadata": {
  "kernelspec": {
   "display_name": "Python 3 (ipykernel)",
   "language": "python",
   "name": "python3"
  },
  "language_info": {
   "codemirror_mode": {
    "name": "ipython",
    "version": 3
   },
   "file_extension": ".py",
   "mimetype": "text/x-python",
   "name": "python",
   "nbconvert_exporter": "python",
   "pygments_lexer": "ipython3",
   "version": "3.9.7"
  }
 },
 "nbformat": 4,
 "nbformat_minor": 5
}
