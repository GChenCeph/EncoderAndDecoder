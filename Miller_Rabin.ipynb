{
 "cells": [
  {
   "cell_type": "code",
   "execution_count": 1,
   "id": "af62e64d",
   "metadata": {},
   "outputs": [],
   "source": [
    "import random"
   ]
  },
  {
   "cell_type": "code",
   "execution_count": 28,
   "id": "9cab54ca",
   "metadata": {},
   "outputs": [],
   "source": [
    "def factor_2_part(M):\n",
    "    \"\"\"Returns k and q such that M=2^k * q, where q is odd.\"\"\"\n",
    "    # YOUR CODE GOES BELOW\n",
    "    k = 0;\n",
    "    q = 1;\n",
    "    while (q % 2) != 1:\n",
    "        k = k + 1\n",
    "        if 2 ** k < M:\n",
    "            q = M / (2 ** k)\n",
    "        if 2 ** k >= M:\n",
    "            break;\n",
    "            \n",
    "    return k, q\n",
    "    #"
   ]
  },
  {
   "cell_type": "code",
   "execution_count": 29,
   "id": "be4f1e37",
   "metadata": {},
   "outputs": [
    {
     "data": {
      "text/plain": [
       "(0, 1)"
      ]
     },
     "execution_count": 29,
     "metadata": {},
     "output_type": "execute_result"
    }
   ],
   "source": [
    "M = factor_2_part(2)\n",
    "M"
   ]
  },
  {
   "cell_type": "code",
   "execution_count": 30,
   "id": "4198bf38",
   "metadata": {},
   "outputs": [],
   "source": [
    "def miller_rabin(N, a=None):\n",
    "    \"\"\"Returns False if N is composite, and returns\n",
    "    true if a is not a witness for the compositeness of N\n",
    "    using the Miller-Rabin test.\"\"\"\n",
    "    if a == None:\n",
    "        a = random.randrange(2,N-1)\n",
    "    # YOUR CODE GOES BELOW\n",
    "    if N == 2:\n",
    "        return True\n",
    "\n",
    "    if N % 2 == 0:\n",
    "        return False\n",
    "    \n",
    "    (k, q) = factor_2_part(N - 1)\n",
    "    a = a ** q % N\n",
    "    if a % N == 1:\n",
    "        return True\n",
    "    for i in range(k):\n",
    "        if a % N == a - 1:\n",
    "            return True\n",
    "        a = a ** 2 % N\n",
    "    \n",
    "    return False\n",
    "    #"
   ]
  },
  {
   "cell_type": "code",
   "execution_count": 31,
   "id": "9ca9873e",
   "metadata": {},
   "outputs": [
    {
     "data": {
      "text/plain": [
       "False"
      ]
     },
     "execution_count": 31,
     "metadata": {},
     "output_type": "execute_result"
    }
   ],
   "source": [
    "miller_rabin(7, 3)"
   ]
  },
  {
   "cell_type": "code",
   "execution_count": null,
   "id": "681fc1b0",
   "metadata": {},
   "outputs": [],
   "source": []
  }
 ],
 "metadata": {
  "kernelspec": {
   "display_name": "Python 3 (ipykernel)",
   "language": "python",
   "name": "python3"
  },
  "language_info": {
   "codemirror_mode": {
    "name": "ipython",
    "version": 3
   },
   "file_extension": ".py",
   "mimetype": "text/x-python",
   "name": "python",
   "nbconvert_exporter": "python",
   "pygments_lexer": "ipython3",
   "version": "3.9.7"
  }
 },
 "nbformat": 4,
 "nbformat_minor": 5
}
