{
 "cells": [
  {
   "cell_type": "code",
   "execution_count": 17,
   "id": "60458edc",
   "metadata": {},
   "outputs": [],
   "source": [
    "import math"
   ]
  },
  {
   "cell_type": "code",
   "execution_count": 4,
   "id": "a57228fd",
   "metadata": {},
   "outputs": [],
   "source": [
    "def euclidean(a,b):\n",
    "    \n",
    "    if (b > a):\n",
    "        temp = b;\n",
    "        a = b;\n",
    "        b = temp;\n",
    "    \n",
    "    r = a % b\n",
    "    q = a // b\n",
    "    \n",
    "    while(r!=0):\n",
    "        \n",
    "        a = b\n",
    "        b = r\n",
    "        q = a // b\n",
    "        r = a - (b * q)\n",
    "\n",
    "    print(b)"
   ]
  },
  {
   "cell_type": "code",
   "execution_count": null,
   "id": "7f94a064",
   "metadata": {},
   "outputs": [],
   "source": [
    "def factorial(a,b):\n",
    "    \n",
    "    n = 23\n",
    "    fact = 1\n",
    "    \n",
    "    for i in range(1,n+1):\n",
    "        fact = fact * i\n",
    "        \n",
    "    print (fact)"
   ]
  },
  {
   "cell_type": "code",
   "execution_count": 5,
   "id": "1af805be",
   "metadata": {},
   "outputs": [
    {
     "data": {
      "text/plain": [
       "1"
      ]
     },
     "execution_count": 5,
     "metadata": {},
     "output_type": "execute_result"
    }
   ],
   "source": [
    "(16 * (2 ** 7)) % 23"
   ]
  },
  {
   "cell_type": "code",
   "execution_count": 13,
   "id": "15d6882d",
   "metadata": {},
   "outputs": [
    {
     "data": {
      "text/plain": [
       "0"
      ]
     },
     "execution_count": 13,
     "metadata": {},
     "output_type": "execute_result"
    }
   ],
   "source": [
    "1739 % 37"
   ]
  },
  {
   "cell_type": "code",
   "execution_count": 12,
   "id": "bac44da8",
   "metadata": {},
   "outputs": [
    {
     "name": "stdout",
     "output_type": "stream",
     "text": [
      "1739\n"
     ]
    }
   ],
   "source": [
    "euclidean(37,1739)"
   ]
  },
  {
   "cell_type": "code",
   "execution_count": 46,
   "id": "2f5ba56f",
   "metadata": {},
   "outputs": [
    {
     "data": {
      "text/plain": [
       "1223"
      ]
     },
     "execution_count": 46,
     "metadata": {},
     "output_type": "execute_result"
    }
   ],
   "source": [
    "2 ** (1+2+3+4+5+6+7+8+9+10+11+12+13+14+15+16+17+18+19+20+21+22) % 1739"
   ]
  },
  {
   "cell_type": "code",
   "execution_count": 21,
   "id": "e55326ef",
   "metadata": {},
   "outputs": [],
   "source": [
    "import math\n",
    "def pollard(N):\n",
    "    \n",
    "    k = math.isqrt(N)\n",
    "    a = 2;\n",
    "    \n",
    "    for j in range(2,k):\n",
    "        \n",
    "        a = a ** j % N\n",
    "        d = math.gcd(a-1, N)\n",
    "        \n",
    "        if d > 1:\n",
    "            if d < N:\n",
    "                print(d)\n",
    "                break\n",
    "    return False"
   ]
  },
  {
   "cell_type": "code",
   "execution_count": 22,
   "id": "f3fa9809",
   "metadata": {},
   "outputs": [
    {
     "name": "stdout",
     "output_type": "stream",
     "text": [
      "37\n"
     ]
    },
    {
     "data": {
      "text/plain": [
       "False"
      ]
     },
     "execution_count": 22,
     "metadata": {},
     "output_type": "execute_result"
    }
   ],
   "source": [
    "pollard(1739)"
   ]
  },
  {
   "cell_type": "code",
   "execution_count": 3,
   "id": "c11b3a4e",
   "metadata": {},
   "outputs": [
    {
     "data": {
      "text/plain": [
       "1329227995784915872903807060280344576"
      ]
     },
     "execution_count": 3,
     "metadata": {},
     "output_type": "execute_result"
    }
   ],
   "source": [
    "2 ** 120 - 1 // 1739"
   ]
  },
  {
   "cell_type": "code",
   "execution_count": 24,
   "id": "c115863e",
   "metadata": {},
   "outputs": [
    {
     "data": {
      "text/plain": [
       "100"
      ]
     },
     "execution_count": 24,
     "metadata": {},
     "output_type": "execute_result"
    }
   ],
   "source": [
    "84 ** 2 % 1739"
   ]
  },
  {
   "cell_type": "code",
   "execution_count": 25,
   "id": "82a529fc",
   "metadata": {},
   "outputs": [
    {
     "data": {
      "text/plain": [
       "1444"
      ]
     },
     "execution_count": 25,
     "metadata": {},
     "output_type": "execute_result"
    }
   ],
   "source": [
    "84 * 100 % 1739"
   ]
  },
  {
   "cell_type": "code",
   "execution_count": 26,
   "id": "aae03531",
   "metadata": {},
   "outputs": [
    {
     "data": {
      "text/plain": [
       "37"
      ]
     },
     "execution_count": 26,
     "metadata": {},
     "output_type": "execute_result"
    }
   ],
   "source": [
    "math.gcd(1443, 1739)"
   ]
  },
  {
   "cell_type": "code",
   "execution_count": 27,
   "id": "4e98cb1a",
   "metadata": {},
   "outputs": [
    {
     "data": {
      "text/plain": [
       "47.0"
      ]
     },
     "execution_count": 27,
     "metadata": {},
     "output_type": "execute_result"
    }
   ],
   "source": [
    "1739 / 37"
   ]
  },
  {
   "cell_type": "code",
   "execution_count": 6,
   "id": "88b8f323",
   "metadata": {},
   "outputs": [
    {
     "data": {
      "text/plain": [
       "8.442366291725122"
      ]
     },
     "execution_count": 6,
     "metadata": {},
     "output_type": "execute_result"
    }
   ],
   "source": [
    "import math\n",
    "import numpy as np\n",
    "\n",
    "(math.exp(math.sqrt(np.log(221) * np.log(np.log(221)))))** (1 / math.sqrt(2))"
   ]
  },
  {
   "cell_type": "code",
   "execution_count": null,
   "id": "20a4a7eb",
   "metadata": {},
   "outputs": [],
   "source": []
  }
 ],
 "metadata": {
  "kernelspec": {
   "display_name": "Python 3 (ipykernel)",
   "language": "python",
   "name": "python3"
  },
  "language_info": {
   "codemirror_mode": {
    "name": "ipython",
    "version": 3
   },
   "file_extension": ".py",
   "mimetype": "text/x-python",
   "name": "python",
   "nbconvert_exporter": "python",
   "pygments_lexer": "ipython3",
   "version": "3.9.7"
  }
 },
 "nbformat": 4,
 "nbformat_minor": 5
}
