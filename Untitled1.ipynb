{
 "cells": [
  {
   "cell_type": "code",
   "execution_count": 10,
   "id": "231bb77e",
   "metadata": {},
   "outputs": [],
   "source": [
    "def euclidean(a,b):\n",
    "    \n",
    "    \n",
    "    if (a > b):\n",
    "        temp = b;\n",
    "        a = b;\n",
    "        b = temp;\n",
    "    \n",
    "    r = a%b\n",
    "    q = int(a/b)\n",
    "    \n",
    "    while(r!=0):\n",
    "        \n",
    "        a=b\n",
    "        b=r\n",
    "        q=int(a/b)\n",
    "        r=a-(b*q)\n",
    "\n",
    "    return(b)"
   ]
  },
  {
   "cell_type": "code",
   "execution_count": 11,
   "id": "1e60dc72",
   "metadata": {},
   "outputs": [
    {
     "data": {
      "text/plain": [
       "99"
      ]
     },
     "execution_count": 11,
     "metadata": {},
     "output_type": "execute_result"
    }
   ],
   "source": [
    "euclidean(16335,99)"
   ]
  },
  {
   "cell_type": "code",
   "execution_count": null,
   "id": "9e5e430a",
   "metadata": {},
   "outputs": [],
   "source": []
  }
 ],
 "metadata": {
  "kernelspec": {
   "display_name": "Python 3 (ipykernel)",
   "language": "python",
   "name": "python3"
  },
  "language_info": {
   "codemirror_mode": {
    "name": "ipython",
    "version": 3
   },
   "file_extension": ".py",
   "mimetype": "text/x-python",
   "name": "python",
   "nbconvert_exporter": "python",
   "pygments_lexer": "ipython3",
   "version": "3.9.7"
  }
 },
 "nbformat": 4,
 "nbformat_minor": 5
}
