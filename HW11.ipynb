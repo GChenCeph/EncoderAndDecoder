{
 "cells": [
  {
   "cell_type": "code",
   "execution_count": 10,
   "id": "40edf173",
   "metadata": {},
   "outputs": [
    {
     "name": "stdout",
     "output_type": "stream",
     "text": [
      "2065\n",
      "3534\n",
      "2114.807458997978\n",
      "2114.807458997978\n"
     ]
    }
   ],
   "source": [
    "p = 6961;\n",
    "g = 437;\n",
    "a = 6104\n",
    "\n",
    "A = pow(g, a, p)\n",
    "print(A)\n",
    "\n",
    "k = 4451\n",
    "D = 5584\n",
    "\n",
    "s1 = pow(g, k, p)\n",
    "#s2 = pow(D - a * s1, 1 / 4451, p - 1)\n",
    "\n",
    "s2 = (D - a * s1) / k % (p - 1)\n",
    "\n",
    "print(s1)\n",
    "print(s2)\n",
    "print(-21565952/4451 % 6960)"
   ]
  },
  {
   "cell_type": "code",
   "execution_count": null,
   "id": "667d7e86",
   "metadata": {},
   "outputs": [],
   "source": []
  }
 ],
 "metadata": {
  "kernelspec": {
   "display_name": "Python 3 (ipykernel)",
   "language": "python",
   "name": "python3"
  },
  "language_info": {
   "codemirror_mode": {
    "name": "ipython",
    "version": 3
   },
   "file_extension": ".py",
   "mimetype": "text/x-python",
   "name": "python",
   "nbconvert_exporter": "python",
   "pygments_lexer": "ipython3",
   "version": "3.9.7"
  }
 },
 "nbformat": 4,
 "nbformat_minor": 5
}
