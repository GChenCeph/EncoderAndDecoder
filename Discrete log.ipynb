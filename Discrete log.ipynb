{
 "cells": [
  {
   "cell_type": "code",
   "execution_count": 5,
   "id": "84f7b6de",
   "metadata": {},
   "outputs": [],
   "source": [
    "import itertools\n",
    "import time\n",
    "import math"
   ]
  },
  {
   "cell_type": "code",
   "execution_count": null,
   "id": "1e4b1d08",
   "metadata": {},
   "outputs": [],
   "source": [
    "def discretelog(g, h, p): # Brute-Force\n",
    "    \n",
    "    result = 0\n",
    "    current = 1\n",
    "    \n",
    "    while result < p - 1:\n",
    "        if (current - h) % p == 0:\n",
    "            return(result)\n",
    "        else:\n",
    "            current *= g\n",
    "            result += 1\n",
    "            \n",
    "    return(-1)\n",
    "    \n",
    "    i = 1;\n",
    "    remainder = (g ** i) % p;\n",
    "    \n",
    "    start = time.time();\n",
    "    while (remainder != h):\n",
    "        i = i + 1;\n",
    "        remainder = (g ** i) % p;\n",
    "    \n",
    "    end = time.time();\n",
    "    return i, end - start;\n",
    "            "
   ]
  },
  {
   "cell_type": "code",
   "execution_count": null,
   "id": "a532b707",
   "metadata": {},
   "outputs": [],
   "source": [
    "h = 906211884\n",
    "g = 5\n",
    "p = 1000000007\n",
    "\n",
    "discretelog(g, h, p)"
   ]
  },
  {
   "cell_type": "code",
   "execution_count": null,
   "id": "54e0e375",
   "metadata": {},
   "outputs": [],
   "source": [
    "discretelog(5, 1234567, 13)"
   ]
  },
  {
   "cell_type": "code",
   "execution_count": null,
   "id": "4e1e7230",
   "metadata": {},
   "outputs": [],
   "source": [
    "discretelog(3, 23, 17)"
   ]
  },
  {
   "cell_type": "code",
   "execution_count": null,
   "id": "0de367d6",
   "metadata": {},
   "outputs": [],
   "source": [
    "def dlog(g,h,p,N=None):\n",
    "    \"\"\"Returns the discrete logarithm of h with respect to\n",
    "    the base b modulo p, where g has order N.\"\"\"\n",
    "    if not N: N = p-1\n",
    "        \n",
    "    result = 0\n",
    "    current = 1\n",
    "    \n",
    "    while result < N:\n",
    "        if (current - h) % p == 0:\n",
    "            return(result)\n",
    "        else:\n",
    "            current *= g\n",
    "            result += 1\n",
    "            \n",
    "    return(-1)"
   ]
  },
  {
   "cell_type": "code",
   "execution_count": null,
   "id": "f4bb4f65",
   "metadata": {},
   "outputs": [],
   "source": []
  },
  {
   "cell_type": "code",
   "execution_count": 33,
   "id": "1412e0b6",
   "metadata": {},
   "outputs": [],
   "source": [
    "def indices_of_match(L1, L2):\n",
    "    \"\"\"Returns the indices of a common element of the lists L1\n",
    "    and L2, i.e. a tuple (i,j) such that L1[i] == L2[j].\"\"\"\n",
    "    \n",
    "    for i in range(len(L1)):\n",
    "        for j in range(len(L2)):\n",
    "            if L1[i] == L2[j]:\n",
    "                return i, j;\n",
    "            j = j + 1;\n",
    "        i = i + 1;\n",
    "    return 0, 0;"
   ]
  },
  {
   "cell_type": "code",
   "execution_count": 19,
   "id": "9f52dc88",
   "metadata": {},
   "outputs": [
    {
     "data": {
      "text/plain": [
       "(5, 4)"
      ]
     },
     "execution_count": 19,
     "metadata": {},
     "output_type": "execute_result"
    }
   ],
   "source": [
    "L1 = [5,11,2,3,10,19,8,42];\n",
    "L2 = [43,12,9,32,19,7,41,59];\n",
    "indices_of_match(L1, L2)"
   ]
  },
  {
   "cell_type": "code",
   "execution_count": 64,
   "id": "c5c6b7ca",
   "metadata": {},
   "outputs": [],
   "source": [
    "def babysteps_giantsteps(g,h,p,N=None):\n",
    "    \"\"\"Returns the discrete logarithm of h with respect to\n",
    "    the base b modulo p, where g has order N, using Shanks'\n",
    "    babysteps-giantsteps algorithm.\"\"\"\n",
    "    if not N: N = p-1\n",
    "    \n",
    "    n = int(math.ceil(math.sqrt(N))) \n",
    "    bsgs = {}\n",
    "    \n",
    "    # Baby step.\n",
    "    for i in range(n):\n",
    "        bsgs[pow(g, i, p)] = i\n",
    "\n",
    "    # Fermat’s Little Theorem\n",
    "    c = pow(g, n * (p - 2), p)\n",
    "    \n",
    "    for j in range(n):\n",
    "        y = (h * pow(c, j, p)) % p\n",
    "        if y in bsgs: \n",
    "            return j * n + bsgs[y]\n",
    "        \n",
    "    return None"
   ]
  },
  {
   "cell_type": "code",
   "execution_count": 65,
   "id": "f87652c3",
   "metadata": {},
   "outputs": [
    {
     "data": {
      "text/plain": [
       "558650027"
      ]
     },
     "execution_count": 65,
     "metadata": {},
     "output_type": "execute_result"
    }
   ],
   "source": [
    "babysteps_giantsteps(5,906211884,1000000007,N=None)"
   ]
  },
  {
   "cell_type": "code",
   "execution_count": 66,
   "id": "3271737d",
   "metadata": {},
   "outputs": [],
   "source": [
    "p = 4294967311 # p is prime\n",
    "g = 3          # g is a primitive element mod p\n",
    "h = 1234567891\n",
    "x = babysteps_giantsteps(g,h,p,p-1)\n",
    "assert pow(g,x,p) == h"
   ]
  },
  {
   "cell_type": "code",
   "execution_count": 55,
   "id": "f396a43f",
   "metadata": {},
   "outputs": [],
   "source": [
    "def solve(g, h, p):\n",
    "    \n",
    "    N = int(math.ceil(math.sqrt(p - 1))) \n",
    "    t = {}\n",
    "    \n",
    "    # Baby step.\n",
    "    for i in range(N):\n",
    "        t[pow(g, i, p)]=i\n",
    "\n",
    "    # Fermat’s Little Theorem\n",
    "    c = pow(g, N * (p - 2), p)\n",
    "    \n",
    "    for j in range(N):\n",
    "        y = (h * pow(c, j, p)) % p\n",
    "        if y in t: \n",
    "            return j * N + t[y]\n",
    "        \n",
    "    return None"
   ]
  },
  {
   "cell_type": "code",
   "execution_count": 57,
   "id": "810e5c72",
   "metadata": {},
   "outputs": [
    {
     "data": {
      "text/plain": [
       "558650027"
      ]
     },
     "execution_count": 57,
     "metadata": {},
     "output_type": "execute_result"
    }
   ],
   "source": [
    "solve(5,906211884,1000000007)"
   ]
  },
  {
   "cell_type": "code",
   "execution_count": null,
   "id": "abd2c62c",
   "metadata": {},
   "outputs": [],
   "source": []
  }
 ],
 "metadata": {
  "kernelspec": {
   "display_name": "Python 3 (ipykernel)",
   "language": "python",
   "name": "python3"
  },
  "language_info": {
   "codemirror_mode": {
    "name": "ipython",
    "version": 3
   },
   "file_extension": ".py",
   "mimetype": "text/x-python",
   "name": "python",
   "nbconvert_exporter": "python",
   "pygments_lexer": "ipython3",
   "version": "3.9.7"
  }
 },
 "nbformat": 4,
 "nbformat_minor": 5
}
