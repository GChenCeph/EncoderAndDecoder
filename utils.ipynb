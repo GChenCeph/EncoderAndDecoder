{
 "cells": [
  {
   "cell_type": "code",
   "execution_count": 1,
   "id": "2388676b",
   "metadata": {},
   "outputs": [],
   "source": [
    "def extended_euclidean(a,b):\n",
    "    \"\"\"Returns gcd(a,b) along with integers s,t such that gcd(a,b)=as+bt using\n",
    "     the extended euclidean algorithm.\"\"\"\n",
    "\n",
    "    r_old, r = a,b\n",
    "    s_old, s = 1,0\n",
    "    t_old, t = 0,1\n",
    "    while r > 0:\n",
    "        q = r_old // r\n",
    "        r_old, r = r, r_old%r\n",
    "        s_old, s = s, s_old-s*q\n",
    "        t_old, t = t, t_old-t*q\n",
    "    return r_old, s_old, t_old"
   ]
  },
  {
   "cell_type": "code",
   "execution_count": 2,
   "id": "e2f2723b",
   "metadata": {},
   "outputs": [],
   "source": [
    "def square_and_multiply(g,x,m):\n",
    "    \"\"\"Returns g^x modulo m using the low-storage square-and-multiply algorithm.\n",
    "    \"\"\"\n",
    "    b = 1\n",
    "    a = g\n",
    "    while x>0:\n",
    "        if x%2 == 1:\n",
    "            b = b*a % m\n",
    "        a = (a**2) % m\n",
    "        x = x // 2\n",
    "    return b"
   ]
  },
  {
   "cell_type": "code",
   "execution_count": 3,
   "id": "199bf0a4",
   "metadata": {},
   "outputs": [],
   "source": [
    "def modular_inverse(a,m):\n",
    "    \"\"\"Returns an integer b such that a*b=1 mod m if gcd(a,m)=1\"\"\"\n",
    "    g,s,t = extended_euclidean(a,m)\n",
    "    if g != 1:\n",
    "        raise ValueError('Input must be coprime')\n",
    "    return s%m"
   ]
  },
  {
   "cell_type": "code",
   "execution_count": null,
   "id": "6c84598f",
   "metadata": {},
   "outputs": [],
   "source": []
  }
 ],
 "metadata": {
  "kernelspec": {
   "display_name": "Python 3 (ipykernel)",
   "language": "python",
   "name": "python3"
  },
  "language_info": {
   "codemirror_mode": {
    "name": "ipython",
    "version": 3
   },
   "file_extension": ".py",
   "mimetype": "text/x-python",
   "name": "python",
   "nbconvert_exporter": "python",
   "pygments_lexer": "ipython3",
   "version": "3.9.7"
  }
 },
 "nbformat": 4,
 "nbformat_minor": 5
}
