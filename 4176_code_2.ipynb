{
 "cells": [
  {
   "cell_type": "code",
   "execution_count": 7,
   "id": "8442b7ef",
   "metadata": {},
   "outputs": [],
   "source": [
    "def extended_euclidean(a,b):\n",
    "    rprev = a\n",
    "    r = b\n",
    "    sprev = 1\n",
    "    s = 0\n",
    "    tprev = 0\n",
    "    t = 1\n",
    "    \n",
    "    while r != 0:\n",
    "        q = rprev // r\n",
    "        t1 = rprev % r\n",
    "        rprev = r\n",
    "        r = t1\n",
    "        stemp = sprev\n",
    "        sprev = s \n",
    "        s = stemp - q * s\n",
    "        ttemp = tprev\n",
    "        tprev = t\n",
    "        t = ttemp - q * t\n",
    "    \n",
    "    return rprev, sprev, tprev"
   ]
  },
  {
   "cell_type": "code",
   "execution_count": 9,
   "id": "c2aef1e3",
   "metadata": {},
   "outputs": [
    {
     "data": {
      "text/plain": [
       "((1, -11, 27), 31)"
      ]
     },
     "execution_count": 9,
     "metadata": {},
     "output_type": "execute_result"
    }
   ],
   "source": [
    "extended_euclidean(103,42), pow(103,-1,42)"
   ]
  },
  {
   "cell_type": "code",
   "execution_count": 13,
   "id": "8ca7a496",
   "metadata": {},
   "outputs": [],
   "source": [
    "def square_and_multiply(g,x,m):\n",
    "    \n",
    "    y = g\n",
    "    b = 1\n",
    "    \n",
    "    while x > 0:\n",
    "        if x % 2 == 1:\n",
    "            b = (b * y) % m\n",
    "        y = (y * y) % m\n",
    "        x = x // 2\n",
    "    \n",
    "    return b;"
   ]
  },
  {
   "cell_type": "code",
   "execution_count": 14,
   "id": "3cd461a1",
   "metadata": {},
   "outputs": [
    {
     "data": {
      "text/plain": [
       "1"
      ]
     },
     "execution_count": 14,
     "metadata": {},
     "output_type": "execute_result"
    }
   ],
   "source": [
    "square_and_multiply(3,200,16)"
   ]
  },
  {
   "cell_type": "code",
   "execution_count": 15,
   "id": "4f52fac4",
   "metadata": {},
   "outputs": [
    {
     "data": {
      "text/plain": [
       "11"
      ]
     },
     "execution_count": 15,
     "metadata": {},
     "output_type": "execute_result"
    }
   ],
   "source": [
    "3 ^ 200 % 16"
   ]
  },
  {
   "cell_type": "code",
   "execution_count": 16,
   "id": "de129fe9",
   "metadata": {},
   "outputs": [
    {
     "data": {
      "text/plain": [
       "1"
      ]
     },
     "execution_count": 16,
     "metadata": {},
     "output_type": "execute_result"
    }
   ],
   "source": [
    "pow(3,200,16)"
   ]
  },
  {
   "cell_type": "code",
   "execution_count": 17,
   "id": "5156a5a2",
   "metadata": {},
   "outputs": [
    {
     "data": {
      "text/plain": [
       "1"
      ]
     },
     "execution_count": 17,
     "metadata": {},
     "output_type": "execute_result"
    }
   ],
   "source": [
    "(3**200)%16"
   ]
  },
  {
   "cell_type": "code",
   "execution_count": 18,
   "id": "5437da57",
   "metadata": {},
   "outputs": [],
   "source": [
    "def modular_inverse(a,m):\n",
    "    \n",
    "    for x in range(1,m):\n",
    "        \n",
    "        if((a % m) * (x % m) % m == 1):\n",
    "            \n",
    "            return x"
   ]
  },
  {
   "cell_type": "code",
   "execution_count": 19,
   "id": "22100630",
   "metadata": {},
   "outputs": [
    {
     "data": {
      "text/plain": [
       "14"
      ]
     },
     "execution_count": 19,
     "metadata": {},
     "output_type": "execute_result"
    }
   ],
   "source": [
    "modular_inverse(20,31)"
   ]
  },
  {
   "cell_type": "code",
   "execution_count": null,
   "id": "90834b12",
   "metadata": {},
   "outputs": [],
   "source": []
  }
 ],
 "metadata": {
  "kernelspec": {
   "display_name": "Python 3 (ipykernel)",
   "language": "python",
   "name": "python3"
  },
  "language_info": {
   "codemirror_mode": {
    "name": "ipython",
    "version": 3
   },
   "file_extension": ".py",
   "mimetype": "text/x-python",
   "name": "python",
   "nbconvert_exporter": "python",
   "pygments_lexer": "ipython3",
   "version": "3.9.7"
  }
 },
 "nbformat": 4,
 "nbformat_minor": 5
}
