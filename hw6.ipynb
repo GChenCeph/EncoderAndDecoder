{
 "cells": [
  {
   "cell_type": "code",
   "execution_count": 1,
   "id": "b331330f",
   "metadata": {},
   "outputs": [],
   "source": [
    "from math import sqrt, floor\n",
    "def extended_euclidean(a,b):\n",
    "    \"\"\"Returns gcd(a,b) along with integers s,t such that gcd(a,b)=as+bt using\n",
    "     the extended euclidean algorithm.\"\"\"\n",
    "\n",
    "    r_old, r = a,b\n",
    "    s_old, s = 1,0\n",
    "    t_old, t = 0,1\n",
    "    while r > 0:\n",
    "        q = r_old // r\n",
    "        r_old, r = r, r_old%r\n",
    "        s_old, s = s, s_old-s*q\n",
    "        t_old, t = t, t_old-t*q\n",
    "    return r_old, s_old, t_old\n",
    "\n",
    "def square_and_multiply(g,x,m):\n",
    "    \"\"\"Returns g^x modulo m using the low-storage square-and-multiply algorithm.\n",
    "    \"\"\"\n",
    "    b = 1\n",
    "    a = g\n",
    "    while x>0:\n",
    "        if x%2 == 1:\n",
    "            b = b*a % m\n",
    "        a = (a**2) % m\n",
    "        x = x // 2\n",
    "    return b\n",
    "\n",
    "def modular_inverse(a,m):\n",
    "    \"\"\"Returns an integer b such that a*b=1 mod m if gcd(a,m)=1\"\"\"\n",
    "    g,s,t = extended_euclidean(a,m)\n",
    "    if g != 1:\n",
    "        raise ValueError('Input must be coprime')\n",
    "    return s%m\n",
    "\n",
    "def babysteps_giantsteps(g,h,p,N=None):\n",
    "    \"\"\"Returns the discrete log of h with respect to the base g modulo p, where g has order N modulo p.\n",
    "    \"\"\"\n",
    "    if not N: N = p-1\n",
    "    n = floor((sqrt(N)))+1\n",
    "    # make a dictionary of the babysteps for fast lookup of the exponent\n",
    "    babystep = 1\n",
    "    babysteps_table = {}\n",
    "    for i in range(n):\n",
    "        babysteps_table[babystep] = i\n",
    "        babystep = (babystep * g) % p\n",
    "    g_inv = modular_inverse(g,p)\n",
    "    g_n_inv = pow(g_inv, n, p)\n",
    "    # giantsteps: h*g^(-jn) for j in [0..n-1]\n",
    "    giantstep = h\n",
    "    for j in range(n+1):\n",
    "        i = babysteps_table.get(giantstep)\n",
    "        #i==None if giantstep is not a babystep, otherwise i satisfies g^i == giantstep\n",
    "        if not i == None:\n",
    "            return i+n*j\n",
    "        giantstep = (giantstep * g_n_inv) % p\n",
    "    print(\"no solution!\")\n",
    "    return None"
   ]
  },
  {
   "cell_type": "code",
   "execution_count": 2,
   "id": "7e22b787",
   "metadata": {},
   "outputs": [],
   "source": [
    "def CRT(moduli, values):\n",
    "    \"\"\"Returns an intenger n such that n modulo moduli[i] = values[i].\n",
    "    Input: moduli - a list of k coprime positive integers\n",
    "           values - a list of k integers\n",
    "    \"\"\"\n",
    "    #YOUR CODE GOES HERE\n",
    "    \n",
    "    c = values[0];\n",
    "    m = moduli[0];\n",
    "    k = len(moduli);\n",
    "    \n",
    "    for i in range(1, k):\n",
    "        for j in range(1, 200):\n",
    "            y = modular_inverse(m, moduli[i]) * (values[i] - c) % moduli[i];\n",
    "            if (isinstance(y, int)):\n",
    "                break;\n",
    "        c = c + m * y;\n",
    "        m = m * moduli[i];\n",
    "        \n",
    "    return (c%m);"
   ]
  },
  {
   "cell_type": "code",
   "execution_count": 3,
   "id": "79b3b271",
   "metadata": {},
   "outputs": [
    {
     "data": {
      "text/plain": [
       "164"
      ]
     },
     "execution_count": 3,
     "metadata": {},
     "output_type": "execute_result"
    }
   ],
   "source": [
    "CRT([3,7,16], [2,3,4])"
   ]
  },
  {
   "cell_type": "code",
   "execution_count": 3,
   "id": "5bd6b8f9",
   "metadata": {},
   "outputs": [],
   "source": [
    "def q_power_dlog(g,h,p,q,e):\n",
    "    \"\"\"Returns the discrete logarithm of g modulo p of h, where g has\n",
    "    order q^e modulo p.\"\"\"\n",
    "    #YOUR CODE GOES HERE\n",
    "    \n",
    "    newq = q ** (e - 1);\n",
    "    \n",
    "    a = square_and_multiply(g,newq,p);\n",
    "    b0 = square_and_multiply(h,newq,p);\n",
    "    x0 = babysteps_giantsteps(a,b0,p,q);\n",
    "    \n",
    "    xl = x0;\n",
    "    \n",
    "    for i in range(1, e):\n",
    "        newi = q ** (e - i - 1);\n",
    "        ## tempb = h * (g ** (-xl * q ** i));\n",
    "        ## bi = square_and_multiply(tempb, newi, p);\n",
    "        bi = pow((pow(g, -1 * xl, p) * h), newi, p);\n",
    "        tempx = babysteps_giantsteps(a,bi,p,q);\n",
    "        xl = xl + tempx * (q ** i);\n",
    "    \n",
    "    return xl;"
   ]
  },
  {
   "cell_type": "code",
   "execution_count": 15,
   "id": "a380e3f9",
   "metadata": {},
   "outputs": [
    {
     "name": "stdout",
     "output_type": "stream",
     "text": [
      "5684341886080801486968994140625\n",
      "17994056186373649813734623444563\n",
      "30765770345747974325897255273242\n",
      "30765770345747974325897255273242\n"
     ]
    }
   ],
   "source": [
    "newq = 5 ** (45 - 1);\n",
    "h = pow(36,12345678910111213141516171819201,56843418860808014869689941406251);\n",
    "a = square_and_multiply(36,newq,56843418860808014869689941406251);\n",
    "b0 = square_and_multiply(h,newq,56843418860808014869689941406251);\n",
    "print(newq);\n",
    "print(h);\n",
    "print(a);\n",
    "print(b0);"
   ]
  },
  {
   "cell_type": "code",
   "execution_count": 16,
   "id": "51deebbb",
   "metadata": {},
   "outputs": [],
   "source": [
    "babysteps_giantsteps(a,b0,56843418860808014869689941406251,5);"
   ]
  },
  {
   "cell_type": "code",
   "execution_count": 17,
   "id": "800602a9",
   "metadata": {},
   "outputs": [
    {
     "data": {
      "text/plain": [
       "5"
      ]
     },
     "execution_count": 17,
     "metadata": {},
     "output_type": "execute_result"
    }
   ],
   "source": [
    "p = 2 * (3 ** 9) + 1;\n",
    "g = 9;\n",
    "h = 9 ** 5;\n",
    "q = 3;\n",
    "e = 9;\n",
    "q_power_dlog(g,h,p,q,e)"
   ]
  },
  {
   "cell_type": "code",
   "execution_count": 18,
   "id": "1f926650",
   "metadata": {},
   "outputs": [
    {
     "data": {
      "text/plain": [
       "12345678910111213141516171819201"
      ]
     },
     "execution_count": 18,
     "metadata": {},
     "output_type": "execute_result"
    }
   ],
   "source": [
    "p = 56843418860808014869689941406251 # p = 2*5^(45) + 1 is prime\n",
    "g = 36  # 6 is primitive, 36 has order 5^45 \n",
    "q = 5\n",
    "e = 45\n",
    "x = 12345678910111213141516171819201\n",
    "h = pow(g,x,p)\n",
    "\n",
    "q_power_dlog(g,h,p,q,e)"
   ]
  },
  {
   "cell_type": "code",
   "execution_count": 24,
   "id": "b4f1f142",
   "metadata": {},
   "outputs": [],
   "source": [
    "def pohlig_hellman(g,h,p,prime_divisors):\n",
    "    \"\"\"Returns the discrete logarithm of h with respect to the base g modulo p,\n",
    "    where p = q_1^e_1 * ... * q_t^e^_t, and prime_divisors = [[q_1,e_1],...,[q_t,e_t]].\n",
    "    \"\"\"\n",
    "    #YOUR CODE GOES HERE\n",
    "    \n",
    "    xi = [None] * len(prime_divisors);         ## xi is qi in HW6 file\n",
    "    for j in range(0, len(prime_divisors)):\n",
    "        xi[j] = 0;\n",
    "        \n",
    "    yi = [None] * len(prime_divisors);         ## yi is ei in HW6 file\n",
    "    for j in range(0, len(prime_divisors)):\n",
    "        yi[j] = 0;\n",
    "    \n",
    "    for i in range (0, len(prime_divisors)):\n",
    "        ai = prime_divisors[i];\n",
    "        xi[i] = ai[0];\n",
    "        yi[i] = ai[1];\n",
    "    ## End of elements extraction\n",
    "    \n",
    "    \n",
    "    Ni = [None] * len(xi);\n",
    "    for j in range(0, len(xi)):\n",
    "        Ni[j] = 0;\n",
    "        \n",
    "    for i in range(0, len(xi)):\n",
    "        Ni[i] = xi[i] ** yi[i];\n",
    "    \n",
    "    N = 1;\n",
    "    for i in range(0, len(xi)):\n",
    "        N = N * Ni[i]\n",
    "    \n",
    "    t = len(xi);\n",
    "    zi = [None] * t;             ## zi is yi in HW6 file\n",
    "    for j in range(0, t):\n",
    "        zi[j] = 0;\n",
    "    for i in range (0, t):\n",
    "        gi = square_and_multiply(g, N//Ni[i], p);\n",
    "        hi = square_and_multiply(h, N//Ni[i], p);\n",
    "        zi[i] = q_power_dlog(gi,hi,p,xi[i],yi[i]);\n",
    "    \n",
    "    c = CRT(Ni, zi);\n",
    "    \n",
    "    return (c%N);"
   ]
  },
  {
   "cell_type": "code",
   "execution_count": 25,
   "id": "5301ab28",
   "metadata": {},
   "outputs": [
    {
     "data": {
      "text/plain": [
       "12345678910111213141516"
      ]
     },
     "execution_count": 25,
     "metadata": {},
     "output_type": "execute_result"
    }
   ],
   "source": [
    "prime_divisors = [[2,1],[3,19],[5,19]];\n",
    "p = 44336756401062011718751;\n",
    "g = 3;\n",
    "x = 12345678910111213141516;\n",
    "h = pow(g,x,p);\n",
    "\n",
    "pohlig_hellman(g,h,p,prime_divisors)"
   ]
  },
  {
   "cell_type": "code",
   "execution_count": 18,
   "id": "186d1824",
   "metadata": {},
   "outputs": [
    {
     "name": "stdout",
     "output_type": "stream",
     "text": [
      "[2, 3, 5, 7]\n",
      "210\n",
      "zi [1, 2, 0, 5]\n",
      "Ni [2, 3, 5, 7]\n",
      "5\n"
     ]
    },
    {
     "data": {
      "text/plain": [
       "5"
      ]
     },
     "execution_count": 18,
     "metadata": {},
     "output_type": "execute_result"
    }
   ],
   "source": [
    "p = 211\n",
    "g = 2\n",
    "h = 2 ** 5\n",
    "prime_divisors = [[2, 1], [3, 1], [5, 1], [7, 1]]\n",
    "\n",
    "pohlig_hellman(g,h,p,prime_divisors)"
   ]
  },
  {
   "cell_type": "code",
   "execution_count": 9,
   "id": "c741a55d",
   "metadata": {},
   "outputs": [
    {
     "data": {
      "text/plain": [
       "37"
      ]
     },
     "execution_count": 9,
     "metadata": {},
     "output_type": "execute_result"
    }
   ],
   "source": [
    "CRT([2, 3, 5, 7], [1, 1, 2, 2])"
   ]
  },
  {
   "cell_type": "code",
   "execution_count": 14,
   "id": "6e447686",
   "metadata": {},
   "outputs": [
    {
     "data": {
      "text/plain": [
       "11084189100265502929687"
      ]
     },
     "execution_count": 14,
     "metadata": {},
     "output_type": "execute_result"
    }
   ],
   "source": [
    "CRT([2, 1162261467, 19073486328125], [1, 581130733, 9536743164062])"
   ]
  },
  {
   "cell_type": "code",
   "execution_count": 18,
   "id": "8f221159",
   "metadata": {},
   "outputs": [
    {
     "name": "stdout",
     "output_type": "stream",
     "text": [
      "[2, 3, 5, 7]\n",
      "[1, 1, 1, 1]\n"
     ]
    }
   ],
   "source": [
    "a = [[2, 1], [3, 1], [5, 1], [7, 1]];\n",
    "\n",
    "xi = [None] * len(a);\n",
    "for j in range(0, len(a)):\n",
    "    xi[j] = 0;\n",
    "    \n",
    "yi = [None] * len(a);\n",
    "for k in range(0, len(a)):\n",
    "    yi[k] = 0;\n",
    "\n",
    "for i in range (0, len(a)):\n",
    "    ai = a[i];\n",
    "    xi[i] = ai[0];\n",
    "    yi[i] = ai[1];\n",
    "\n",
    "print(xi)\n",
    "print(yi)"
   ]
  },
  {
   "cell_type": "code",
   "execution_count": 25,
   "id": "e69710c0",
   "metadata": {},
   "outputs": [
    {
     "data": {
      "text/plain": [
       "5"
      ]
     },
     "execution_count": 25,
     "metadata": {},
     "output_type": "execute_result"
    }
   ],
   "source": [
    "pow(3,-1,7)"
   ]
  },
  {
   "cell_type": "code",
   "execution_count": 12,
   "id": "4802d37f",
   "metadata": {},
   "outputs": [
    {
     "data": {
      "text/plain": [
       "44333673882019824213296"
      ]
     },
     "execution_count": 12,
     "metadata": {},
     "output_type": "execute_result"
    }
   ],
   "source": [
    "44336756401062011718751 - 3082519042187505455"
   ]
  },
  {
   "cell_type": "code",
   "execution_count": 14,
   "id": "12c0c7b0",
   "metadata": {},
   "outputs": [
    {
     "data": {
      "text/plain": [
       "1162261467"
      ]
     },
     "execution_count": 14,
     "metadata": {},
     "output_type": "execute_result"
    }
   ],
   "source": [
    "3 ** 19"
   ]
  },
  {
   "cell_type": "code",
   "execution_count": 19,
   "id": "31dbe318",
   "metadata": {},
   "outputs": [
    {
     "data": {
      "text/plain": [
       "44336756401062011718750"
      ]
     },
     "execution_count": 19,
     "metadata": {},
     "output_type": "execute_result"
    }
   ],
   "source": [
    "2 * 1162261467 * 19073486328125"
   ]
  },
  {
   "cell_type": "code",
   "execution_count": null,
   "id": "5e4a97f9",
   "metadata": {},
   "outputs": [],
   "source": []
  }
 ],
 "metadata": {
  "kernelspec": {
   "display_name": "Python 3 (ipykernel)",
   "language": "python",
   "name": "python3"
  },
  "language_info": {
   "codemirror_mode": {
    "name": "ipython",
    "version": 3
   },
   "file_extension": ".py",
   "mimetype": "text/x-python",
   "name": "python",
   "nbconvert_exporter": "python",
   "pygments_lexer": "ipython3",
   "version": "3.9.7"
  }
 },
 "nbformat": 4,
 "nbformat_minor": 5
}
