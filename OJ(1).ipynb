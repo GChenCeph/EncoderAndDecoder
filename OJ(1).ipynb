{
 "cells": [
  {
   "cell_type": "code",
   "execution_count": 4,
   "id": "219ec5a5",
   "metadata": {},
   "outputs": [
    {
     "data": {
      "text/html": [
       "'C:/Users/meizhi/Desktop/final'"
      ],
      "text/latex": [
       "'C:/Users/meizhi/Desktop/final'"
      ],
      "text/markdown": [
       "'C:/Users/meizhi/Desktop/final'"
      ],
      "text/plain": [
       "[1] \"C:/Users/meizhi/Desktop/final\""
      ]
     },
     "metadata": {},
     "output_type": "display_data"
    },
    {
     "data": {
      "text/html": [
       "'numeric'"
      ],
      "text/latex": [
       "'numeric'"
      ],
      "text/markdown": [
       "'numeric'"
      ],
      "text/plain": [
       "[1] \"numeric\""
      ]
     },
     "metadata": {},
     "output_type": "display_data"
    },
    {
     "data": {
      "text/html": [
       "<table>\n",
       "<thead><tr><th scope=col>minutevol</th><th scope=col>tropicprice</th><th scope=col>minuteprice</th><th scope=col>dmnckprice</th><th scope=col>tropicad</th><th scope=col>mintead</th><th scope=col>dunckad</th></tr></thead>\n",
       "<tbody>\n",
       "\t<tr><td> 636928   </td><td>0.06048264</td><td>0.05127604</td><td>0.03191406</td><td>0         </td><td>0         </td><td>1         </td></tr>\n",
       "\t<tr><td> 787456   </td><td>0.06039063</td><td>0.04867188</td><td>0.04050781</td><td>0         </td><td>0         </td><td>0         </td></tr>\n",
       "\t<tr><td>1612800   </td><td>0.06039063</td><td>0.04518229</td><td>0.03582031</td><td>0         </td><td>1         </td><td>1         </td></tr>\n",
       "\t<tr><td> 347136   </td><td>0.06039063</td><td>0.05127604</td><td>0.03582031</td><td>0         </td><td>0         </td><td>0         </td></tr>\n",
       "\t<tr><td> 367616   </td><td>0.06039063</td><td>0.05127604</td><td>0.03542969</td><td>1         </td><td>0         </td><td>0         </td></tr>\n",
       "\t<tr><td> 492544   </td><td>0.06039063</td><td>0.05127604</td><td>0.03386719</td><td>0         </td><td>0         </td><td>1         </td></tr>\n",
       "</tbody>\n",
       "</table>\n"
      ],
      "text/latex": [
       "\\begin{tabular}{r|lllllll}\n",
       " minutevol & tropicprice & minuteprice & dmnckprice & tropicad & mintead & dunckad\\\\\n",
       "\\hline\n",
       "\t  636928    & 0.06048264 & 0.05127604 & 0.03191406 & 0          & 0          & 1         \\\\\n",
       "\t  787456    & 0.06039063 & 0.04867188 & 0.04050781 & 0          & 0          & 0         \\\\\n",
       "\t 1612800    & 0.06039063 & 0.04518229 & 0.03582031 & 0          & 1          & 1         \\\\\n",
       "\t  347136    & 0.06039063 & 0.05127604 & 0.03582031 & 0          & 0          & 0         \\\\\n",
       "\t  367616    & 0.06039063 & 0.05127604 & 0.03542969 & 1          & 0          & 0         \\\\\n",
       "\t  492544    & 0.06039063 & 0.05127604 & 0.03386719 & 0          & 0          & 1         \\\\\n",
       "\\end{tabular}\n"
      ],
      "text/markdown": [
       "\n",
       "| minutevol | tropicprice | minuteprice | dmnckprice | tropicad | mintead | dunckad |\n",
       "|---|---|---|---|---|---|---|\n",
       "|  636928    | 0.06048264 | 0.05127604 | 0.03191406 | 0          | 0          | 1          |\n",
       "|  787456    | 0.06039063 | 0.04867188 | 0.04050781 | 0          | 0          | 0          |\n",
       "| 1612800    | 0.06039063 | 0.04518229 | 0.03582031 | 0          | 1          | 1          |\n",
       "|  347136    | 0.06039063 | 0.05127604 | 0.03582031 | 0          | 0          | 0          |\n",
       "|  367616    | 0.06039063 | 0.05127604 | 0.03542969 | 1          | 0          | 0          |\n",
       "|  492544    | 0.06039063 | 0.05127604 | 0.03386719 | 0          | 0          | 1          |\n",
       "\n"
      ],
      "text/plain": [
       "  minutevol tropicprice minuteprice dmnckprice tropicad mintead dunckad\n",
       "1  636928   0.06048264  0.05127604  0.03191406 0        0       1      \n",
       "2  787456   0.06039063  0.04867188  0.04050781 0        0       0      \n",
       "3 1612800   0.06039063  0.04518229  0.03582031 0        1       1      \n",
       "4  347136   0.06039063  0.05127604  0.03582031 0        0       0      \n",
       "5  367616   0.06039063  0.05127604  0.03542969 1        0       0      \n",
       "6  492544   0.06039063  0.05127604  0.03386719 0        0       1      "
      ]
     },
     "metadata": {},
     "output_type": "display_data"
    }
   ],
   "source": [
    "getwd()\n",
    "old_data <- read.csv(\"C:/Users/meizhi/Desktop/final/OJ.csv\", header = FALSE)\n",
    "minutevol=as.numeric(as.character(old_data[2:9650,1]))\n",
    "tropicprice=as.numeric(as.character(old_data[2:9650,2]))\n",
    "minuteprice=as.numeric(as.character(old_data[2:9650,3]))\n",
    "dmnckprice=as.numeric(as.character(old_data[2:9650,4]))\n",
    "tropicad=as.numeric(as.character(old_data[2:9650,5]))\n",
    "mintead=as.numeric(as.character(old_data[2:9650,6]))\n",
    "dunckad=as.numeric(as.character(old_data[2:9650,7]))\n",
    "class(minutevol)\n",
    "data = data.frame(minutevol=minutevol,tropicprice=tropicprice,minuteprice=minuteprice,dmnckprice=dmnckprice,tropicad=tropicad,mintead=mintead,dunckad=dunckad)\n",
    "head(data)"
   ]
  },
  {
   "cell_type": "code",
   "execution_count": 5,
   "id": "7207d82f",
   "metadata": {},
   "outputs": [],
   "source": [
    "train_sub=sample(nrow(data),7/10*nrow(data))\n",
    "train_data <- data[train_sub,]\n",
    "test_data <- data[-train_sub,]"
   ]
  },
  {
   "cell_type": "code",
   "execution_count": 6,
   "id": "0b4c265a",
   "metadata": {},
   "outputs": [
    {
     "data": {
      "text/html": [
       "'numeric'"
      ],
      "text/latex": [
       "'numeric'"
      ],
      "text/markdown": [
       "'numeric'"
      ],
      "text/plain": [
       "[1] \"numeric\""
      ]
     },
     "metadata": {},
     "output_type": "display_data"
    }
   ],
   "source": [
    "class(test_data$dunckad)"
   ]
  },
  {
   "cell_type": "code",
   "execution_count": null,
   "id": "eb68220e",
   "metadata": {},
   "outputs": [],
   "source": [
    "# train_set=data[1:7000,1:7]\n",
    "# test_set=data[7001:9650,1:7]"
   ]
  },
  {
   "cell_type": "code",
   "execution_count": 8,
   "id": "c5291920",
   "metadata": {},
   "outputs": [
    {
     "data": {
      "text/plain": [
       "\n",
       "Call:\n",
       "lm(formula = minutevol ~ tropicprice + minuteprice + dmnckprice + \n",
       "    tropicad + mintead + dunckad, data = train_data)\n",
       "\n",
       "Residuals:\n",
       "     Min       1Q   Median       3Q      Max \n",
       "-2698415  -784840  -223787   421582 35018840 \n",
       "\n",
       "Coefficients:\n",
       "              Estimate Std. Error t value Pr(>|t|)    \n",
       "(Intercept)    3648777     181865  20.063  < 2e-16 ***\n",
       "tropicprice   72388209    4524673  15.999  < 2e-16 ***\n",
       "minuteprice -179262527    4975914 -36.026  < 2e-16 ***\n",
       "dmnckprice    44651479    5861606   7.618 2.94e-14 ***\n",
       "tropicad         73868      47485   1.556     0.12    \n",
       "mintead         974378      43071  22.623  < 2e-16 ***\n",
       "dunckad        -492830      41116 -11.986  < 2e-16 ***\n",
       "---\n",
       "Signif. codes:  0 '***' 0.001 '**' 0.01 '*' 0.05 '.' 0.1 ' ' 1\n",
       "\n",
       "Residual standard error: 1619000 on 6747 degrees of freedom\n",
       "Multiple R-squared:  0.3038,\tAdjusted R-squared:  0.3032 \n",
       "F-statistic: 490.7 on 6 and 6747 DF,  p-value: < 2.2e-16\n"
      ]
     },
     "metadata": {},
     "output_type": "display_data"
    }
   ],
   "source": [
    "model1 <-lm(minutevol~tropicprice+minuteprice+dmnckprice+tropicad+mintead+dunckad,data=train_data)\n",
    "# model1 <- lm(minutevol~minuteprice,data=train_set)\n",
    "summary(model1)"
   ]
  },
  {
   "cell_type": "code",
   "execution_count": 9,
   "id": "b003df14",
   "metadata": {},
   "outputs": [
    {
     "data": {
      "image/png": "[encoded data removed]",
      "text/plain": [
       "Plot with title \"\""
      ]
     },
     "metadata": {},
     "output_type": "display_data"
    }
   ],
   "source": [
    "par(mfrow=c(2,2))\n",
    "plot(model1)"
   ]
  },
  {
   "cell_type": "code",
   "execution_count": 10,
   "id": "4f8e8e4c",
   "metadata": {},
   "outputs": [
    {
     "data": {
      "text/html": [
       "<table>\n",
       "<thead><tr><th></th><th scope=col>Estimate</th><th scope=col>Std. Error</th><th scope=col>t value</th><th scope=col>Pr(&gt;|t|)</th></tr></thead>\n",
       "<tbody>\n",
       "\t<tr><th scope=row>(Intercept)</th><td>   3648776.53</td><td> 181865.01   </td><td> 20.063103   </td><td> 5.143787e-87</td></tr>\n",
       "\t<tr><th scope=row>tropicprice</th><td>  72388208.92</td><td>4524673.00   </td><td> 15.998550   </td><td> 1.422110e-56</td></tr>\n",
       "\t<tr><th scope=row>minuteprice</th><td>-179262527.00</td><td>4975913.48   </td><td>-36.026054   </td><td>4.154465e-260</td></tr>\n",
       "\t<tr><th scope=row>dmnckprice</th><td>  44651478.80</td><td>5861605.83   </td><td>  7.617619   </td><td> 2.937734e-14</td></tr>\n",
       "\t<tr><th scope=row>tropicad</th><td>     73867.45</td><td>  47485.11   </td><td>  1.555592   </td><td> 1.198521e-01</td></tr>\n",
       "\t<tr><th scope=row>mintead</th><td>    974377.98</td><td>  43071.09   </td><td> 22.622552   </td><td>2.779405e-109</td></tr>\n",
       "\t<tr><th scope=row>dunckad</th><td>   -492829.52</td><td>  41115.75   </td><td>-11.986392   </td><td> 8.996020e-33</td></tr>\n",
       "</tbody>\n",
       "</table>\n"
      ],
      "text/latex": [
       "\\begin{tabular}{r|llll}\n",
       "  & Estimate & Std. Error & t value & Pr(>\\textbar{}t\\textbar{})\\\\\n",
       "\\hline\n",
       "\t(Intercept) &    3648776.53 &  181865.01    &  20.063103    &  5.143787e-87\\\\\n",
       "\ttropicprice &   72388208.92 & 4524673.00    &  15.998550    &  1.422110e-56\\\\\n",
       "\tminuteprice & -179262527.00 & 4975913.48    & -36.026054    & 4.154465e-260\\\\\n",
       "\tdmnckprice &   44651478.80 & 5861605.83    &   7.617619    &  2.937734e-14\\\\\n",
       "\ttropicad &      73867.45 &   47485.11    &   1.555592    &  1.198521e-01\\\\\n",
       "\tmintead &     974377.98 &   43071.09    &  22.622552    & 2.779405e-109\\\\\n",
       "\tdunckad &    -492829.52 &   41115.75    & -11.986392    &  8.996020e-33\\\\\n",
       "\\end{tabular}\n"
      ],
      "text/markdown": [
       "\n",
       "| <!--/--> | Estimate | Std. Error | t value | Pr(>|t|) |\n",
       "|---|---|---|---|---|\n",
       "| (Intercept) |    3648776.53 |  181865.01    |  20.063103    |  5.143787e-87 |\n",
       "| tropicprice |   72388208.92 | 4524673.00    |  15.998550    |  1.422110e-56 |\n",
       "| minuteprice | -179262527.00 | 4975913.48    | -36.026054    | 4.154465e-260 |\n",
       "| dmnckprice |   44651478.80 | 5861605.83    |   7.617619    |  2.937734e-14 |\n",
       "| tropicad |      73867.45 |   47485.11    |   1.555592    |  1.198521e-01 |\n",
       "| mintead |     974377.98 |   43071.09    |  22.622552    | 2.779405e-109 |\n",
       "| dunckad |    -492829.52 |   41115.75    | -11.986392    |  8.996020e-33 |\n",
       "\n"
      ],
      "text/plain": [
       "            Estimate      Std. Error t value    Pr(>|t|)     \n",
       "(Intercept)    3648776.53  181865.01  20.063103  5.143787e-87\n",
       "tropicprice   72388208.92 4524673.00  15.998550  1.422110e-56\n",
       "minuteprice -179262527.00 4975913.48 -36.026054 4.154465e-260\n",
       "dmnckprice    44651478.80 5861605.83   7.617619  2.937734e-14\n",
       "tropicad         73867.45   47485.11   1.555592  1.198521e-01\n",
       "mintead         974377.98   43071.09  22.622552 2.779405e-109\n",
       "dunckad        -492829.52   41115.75 -11.986392  8.996020e-33"
      ]
     },
     "metadata": {},
     "output_type": "display_data"
    }
   ],
   "source": [
    "summary(model1)$coefficient"
   ]
  },
  {
   "cell_type": "code",
   "execution_count": 11,
   "id": "b3979749",
   "metadata": {},
   "outputs": [
    {
     "data": {
      "text/html": [
       "<table>\n",
       "<thead><tr><th></th><th scope=col>2.5 %</th><th scope=col>97.5 %</th></tr></thead>\n",
       "<tbody>\n",
       "\t<tr><th scope=row>(Intercept)</th><td>   3292263.70</td><td>   4005289.4 </td></tr>\n",
       "\t<tr><th scope=row>tropicprice</th><td>  63518421.64</td><td>  81257996.2 </td></tr>\n",
       "\t<tr><th scope=row>minuteprice</th><td>-189016888.07</td><td>-169508165.9 </td></tr>\n",
       "\t<tr><th scope=row>dmnckprice</th><td>  33160881.16</td><td>  56142076.5 </td></tr>\n",
       "\t<tr><th scope=row>tropicad</th><td>    -19218.35</td><td>    166953.3 </td></tr>\n",
       "\t<tr><th scope=row>mintead</th><td>    889945.05</td><td>   1058810.9 </td></tr>\n",
       "\t<tr><th scope=row>dunckad</th><td>   -573429.37</td><td>   -412229.7 </td></tr>\n",
       "</tbody>\n",
       "</table>\n"
      ],
      "text/latex": [
       "\\begin{tabular}{r|ll}\n",
       "  & 2.5 \\% & 97.5 \\%\\\\\n",
       "\\hline\n",
       "\t(Intercept) &    3292263.70 &    4005289.4 \\\\\n",
       "\ttropicprice &   63518421.64 &   81257996.2 \\\\\n",
       "\tminuteprice & -189016888.07 & -169508165.9 \\\\\n",
       "\tdmnckprice &   33160881.16 &   56142076.5 \\\\\n",
       "\ttropicad &     -19218.35 &     166953.3 \\\\\n",
       "\tmintead &     889945.05 &    1058810.9 \\\\\n",
       "\tdunckad &    -573429.37 &    -412229.7 \\\\\n",
       "\\end{tabular}\n"
      ],
      "text/markdown": [
       "\n",
       "| <!--/--> | 2.5 % | 97.5 % |\n",
       "|---|---|---|\n",
       "| (Intercept) |    3292263.70 |    4005289.4  |\n",
       "| tropicprice |   63518421.64 |   81257996.2  |\n",
       "| minuteprice | -189016888.07 | -169508165.9  |\n",
       "| dmnckprice |   33160881.16 |   56142076.5  |\n",
       "| tropicad |     -19218.35 |     166953.3  |\n",
       "| mintead |     889945.05 |    1058810.9  |\n",
       "| dunckad |    -573429.37 |    -412229.7  |\n",
       "\n"
      ],
      "text/plain": [
       "            2.5 %         97.5 %      \n",
       "(Intercept)    3292263.70    4005289.4\n",
       "tropicprice   63518421.64   81257996.2\n",
       "minuteprice -189016888.07 -169508165.9\n",
       "dmnckprice    33160881.16   56142076.5\n",
       "tropicad        -19218.35     166953.3\n",
       "mintead         889945.05    1058810.9\n",
       "dunckad        -573429.37    -412229.7"
      ]
     },
     "metadata": {},
     "output_type": "display_data"
    }
   ],
   "source": [
    "confint(model1)"
   ]
  },
  {
   "cell_type": "code",
   "execution_count": 13,
   "id": "be1b7a9e",
   "metadata": {},
   "outputs": [
    {
     "name": "stdout",
     "output_type": "stream",
     "text": [
      "\n",
      "  There is a binary version available but the source version is later:\n",
      "         binary source needs_compilation\n",
      "corrplot   0.88   0.92             FALSE\n",
      "\n"
     ]
    },
    {
     "name": "stderr",
     "output_type": "stream",
     "text": [
      "installing the source package 'corrplot'\n",
      "\n"
     ]
    }
   ],
   "source": [
    "install.packages(\"corrplot\")"
   ]
  },
  {
   "cell_type": "code",
   "execution_count": 14,
   "id": "3fb893fa",
   "metadata": {},
   "outputs": [
    {
     "name": "stderr",
     "output_type": "stream",
     "text": [
      "corrplot 0.92 loaded\n"
     ]
    },
    {
     "data": {
      "text/html": [
       "<table>\n",
       "<thead><tr><th></th><th scope=col>minutevol</th><th scope=col>tropicprice</th><th scope=col>minuteprice</th><th scope=col>dmnckprice</th><th scope=col>tropicad</th><th scope=col>mintead</th><th scope=col>dunckad</th></tr></thead>\n",
       "<tbody>\n",
       "\t<tr><th scope=row>minutevol</th><td> 1.00000000</td><td> 0.06943920</td><td>-0.34616298</td><td> 0.02745006</td><td>-0.05912648</td><td> 0.39208695</td><td>-0.19750427</td></tr>\n",
       "\t<tr><th scope=row>tropicprice</th><td> 0.06943920</td><td> 1.00000000</td><td> 0.54965304</td><td> 0.57237775</td><td>-0.30294668</td><td> 0.15377905</td><td>-0.06896595</td></tr>\n",
       "\t<tr><th scope=row>minuteprice</th><td>-0.34616298</td><td> 0.54965304</td><td> 1.00000000</td><td> 0.49937240</td><td>-0.05037096</td><td>-0.15424516</td><td> 0.02461410</td></tr>\n",
       "\t<tr><th scope=row>dmnckprice</th><td> 0.02745006</td><td> 0.57237775</td><td> 0.49937240</td><td> 1.00000000</td><td>-0.15771582</td><td> 0.09792591</td><td>-0.10007959</td></tr>\n",
       "\t<tr><th scope=row>tropicad</th><td>-0.05912648</td><td>-0.30294668</td><td>-0.05037096</td><td>-0.15771582</td><td> 1.00000000</td><td>-0.11464885</td><td>-0.08927400</td></tr>\n",
       "\t<tr><th scope=row>mintead</th><td> 0.39208695</td><td> 0.15377905</td><td>-0.15424516</td><td> 0.09792591</td><td>-0.11464885</td><td> 1.00000000</td><td>-0.14421232</td></tr>\n",
       "\t<tr><th scope=row>dunckad</th><td>-0.19750427</td><td>-0.06896595</td><td> 0.02461410</td><td>-0.10007959</td><td>-0.08927400</td><td>-0.14421232</td><td> 1.00000000</td></tr>\n",
       "</tbody>\n",
       "</table>\n"
      ],
      "text/latex": [
       "\\begin{tabular}{r|lllllll}\n",
       "  & minutevol & tropicprice & minuteprice & dmnckprice & tropicad & mintead & dunckad\\\\\n",
       "\\hline\n",
       "\tminutevol &  1.00000000 &  0.06943920 & -0.34616298 &  0.02745006 & -0.05912648 &  0.39208695 & -0.19750427\\\\\n",
       "\ttropicprice &  0.06943920 &  1.00000000 &  0.54965304 &  0.57237775 & -0.30294668 &  0.15377905 & -0.06896595\\\\\n",
       "\tminuteprice & -0.34616298 &  0.54965304 &  1.00000000 &  0.49937240 & -0.05037096 & -0.15424516 &  0.02461410\\\\\n",
       "\tdmnckprice &  0.02745006 &  0.57237775 &  0.49937240 &  1.00000000 & -0.15771582 &  0.09792591 & -0.10007959\\\\\n",
       "\ttropicad & -0.05912648 & -0.30294668 & -0.05037096 & -0.15771582 &  1.00000000 & -0.11464885 & -0.08927400\\\\\n",
       "\tmintead &  0.39208695 &  0.15377905 & -0.15424516 &  0.09792591 & -0.11464885 &  1.00000000 & -0.14421232\\\\\n",
       "\tdunckad & -0.19750427 & -0.06896595 &  0.02461410 & -0.10007959 & -0.08927400 & -0.14421232 &  1.00000000\\\\\n",
       "\\end{tabular}\n"
      ],
      "text/markdown": [
       "\n",
       "| <!--/--> | minutevol | tropicprice | minuteprice | dmnckprice | tropicad | mintead | dunckad |\n",
       "|---|---|---|---|---|---|---|---|\n",
       "| minutevol |  1.00000000 |  0.06943920 | -0.34616298 |  0.02745006 | -0.05912648 |  0.39208695 | -0.19750427 |\n",
       "| tropicprice |  0.06943920 |  1.00000000 |  0.54965304 |  0.57237775 | -0.30294668 |  0.15377905 | -0.06896595 |\n",
       "| minuteprice | -0.34616298 |  0.54965304 |  1.00000000 |  0.49937240 | -0.05037096 | -0.15424516 |  0.02461410 |\n",
       "| dmnckprice |  0.02745006 |  0.57237775 |  0.49937240 |  1.00000000 | -0.15771582 |  0.09792591 | -0.10007959 |\n",
       "| tropicad | -0.05912648 | -0.30294668 | -0.05037096 | -0.15771582 |  1.00000000 | -0.11464885 | -0.08927400 |\n",
       "| mintead |  0.39208695 |  0.15377905 | -0.15424516 |  0.09792591 | -0.11464885 |  1.00000000 | -0.14421232 |\n",
       "| dunckad | -0.19750427 | -0.06896595 |  0.02461410 | -0.10007959 | -0.08927400 | -0.14421232 |  1.00000000 |\n",
       "\n"
      ],
      "text/plain": [
       "            minutevol   tropicprice minuteprice dmnckprice  tropicad   \n",
       "minutevol    1.00000000  0.06943920 -0.34616298  0.02745006 -0.05912648\n",
       "tropicprice  0.06943920  1.00000000  0.54965304  0.57237775 -0.30294668\n",
       "minuteprice -0.34616298  0.54965304  1.00000000  0.49937240 -0.05037096\n",
       "dmnckprice   0.02745006  0.57237775  0.49937240  1.00000000 -0.15771582\n",
       "tropicad    -0.05912648 -0.30294668 -0.05037096 -0.15771582  1.00000000\n",
       "mintead      0.39208695  0.15377905 -0.15424516  0.09792591 -0.11464885\n",
       "dunckad     -0.19750427 -0.06896595  0.02461410 -0.10007959 -0.08927400\n",
       "            mintead     dunckad    \n",
       "minutevol    0.39208695 -0.19750427\n",
       "tropicprice  0.15377905 -0.06896595\n",
       "minuteprice -0.15424516  0.02461410\n",
       "dmnckprice   0.09792591 -0.10007959\n",
       "tropicad    -0.11464885 -0.08927400\n",
       "mintead      1.00000000 -0.14421232\n",
       "dunckad     -0.14421232  1.00000000"
      ]
     },
     "metadata": {},
     "output_type": "display_data"
    },
    {
     "data": {
      "image/png": "[encoded data removed]",
      "text/plain": [
       "Plot with title \"\""
      ]
     },
     "metadata": {},
     "output_type": "display_data"
    }
   ],
   "source": [
    "library(corrplot)\n",
    "heat_map <- cor(data)\n",
    "corrplot(heat_map,method=\"shade\",tl.col=\"black\",tl.srt=45,order=\"AOE\")\n",
    "heat_map"
   ]
  },
  {
   "cell_type": "code",
   "execution_count": 46,
   "id": "7cdc48e6",
   "metadata": {},
   "outputs": [],
   "source": [
    "# model2 <- lm(minutevol~tropicprice+minuteprice+dmnckprice+tropicad+mintead+dunckad+minuteprice*mintead+tropicad*tropicprice+dunckad*dmnckprice,data=train_set)\n",
    "# summary(model2)"
   ]
  },
  {
   "cell_type": "code",
   "execution_count": null,
   "id": "f63e80f0",
   "metadata": {},
   "outputs": [],
   "source": [
    "\n"
   ]
  },
  {
   "cell_type": "code",
   "execution_count": 15,
   "id": "72815627",
   "metadata": {},
   "outputs": [
    {
     "name": "stderr",
     "output_type": "stream",
     "text": [
      "also installing the dependency 'lme4'\n",
      "\n"
     ]
    },
    {
     "name": "stdout",
     "output_type": "stream",
     "text": [
      "\n",
      "  There are binary versions available but the source versions are later:\n",
      "     binary source needs_compilation\n",
      "lme4 1.1-26 1.1-29              TRUE\n",
      "car  3.0-10 3.0-13             FALSE\n",
      "\n",
      "  Binaries will be installed\n",
      "package 'lme4' successfully unpacked and MD5 sums checked\n",
      "\n",
      "The downloaded binary packages are in\n",
      "\tC:\\Users\\meizhi\\AppData\\Local\\Temp\\RtmpgV11Em\\downloaded_packages\n"
     ]
    },
    {
     "name": "stderr",
     "output_type": "stream",
     "text": [
      "installing the source package 'car'\n",
      "\n"
     ]
    }
   ],
   "source": [
    "\n",
    "install.packages('car')"
   ]
  },
  {
   "cell_type": "code",
   "execution_count": 16,
   "id": "d4f36726",
   "metadata": {},
   "outputs": [
    {
     "name": "stderr",
     "output_type": "stream",
     "text": [
      "Loading required package: carData\n"
     ]
    },
    {
     "data": {
      "image/png": "[encoded data removed]",
      "text/plain": [
       "plot without title"
      ]
     },
     "metadata": {},
     "output_type": "display_data"
    }
   ],
   "source": [
    "library(car)\n",
    "crPlots(model1)"
   ]
  },
  {
   "cell_type": "code",
   "execution_count": 17,
   "id": "2e1bc895",
   "metadata": {},
   "outputs": [
    {
     "name": "stderr",
     "output_type": "stream",
     "text": [
      "Warning message:\n",
      "\"package 'randomForest' is not available (for R version 3.6.1)\""
     ]
    }
   ],
   "source": [
    "install.packages(\"randomForest\")"
   ]
  },
  {
   "cell_type": "code",
   "execution_count": 19,
   "id": "097b1643",
   "metadata": {},
   "outputs": [
    {
     "data": {
      "text/plain": [
       "                Length Class  Mode     \n",
       "call               6   -none- call     \n",
       "type               1   -none- character\n",
       "predicted       6754   -none- numeric  \n",
       "mse              500   -none- numeric  \n",
       "rsq              500   -none- numeric  \n",
       "oob.times       6754   -none- numeric  \n",
       "importance        12   -none- numeric  \n",
       "importanceSD       6   -none- numeric  \n",
       "localImportance    0   -none- NULL     \n",
       "proximity          0   -none- NULL     \n",
       "ntree              1   -none- numeric  \n",
       "mtry               1   -none- numeric  \n",
       "forest            11   -none- list     \n",
       "coefs              0   -none- NULL     \n",
       "y               6754   -none- numeric  \n",
       "test               0   -none- NULL     \n",
       "inbag              0   -none- NULL     \n",
       "terms              3   terms  call     "
      ]
     },
     "metadata": {},
     "output_type": "display_data"
    },
    {
     "name": "stdout",
     "output_type": "stream",
     "text": [
      "\n",
      "Call:\n",
      " randomForest(formula = minutevol ~ tropicprice + minuteprice +      dmnckprice + tropicad + mintead + dunckad, data = train_data,      importance = TRUE, ntree = 500, mtry = 5) \n",
      "               Type of random forest: regression\n",
      "                     Number of trees: 500\n",
      "No. of variables tried at each split: 5\n",
      "\n",
      "          Mean of squared residuals: 1.011036e+12\n",
      "                    % Var explained: 73.11\n"
     ]
    }
   ],
   "source": [
    "library(randomForest)\n",
    "model2 <- randomForest(minutevol~tropicprice+minuteprice+dmnckprice+tropicad+mintead+dunckad,data=train_data,importance=TRUE, ntree=500,mtry=5)\n",
    "summary(model2)\n",
    "print(model2)"
   ]
  },
  {
   "cell_type": "code",
   "execution_count": 20,
   "id": "efed756c",
   "metadata": {},
   "outputs": [
    {
     "data": {
      "text/html": [
       "<table>\n",
       "<thead><tr><th></th><th scope=col>%IncMSE</th><th scope=col>IncNodePurity</th></tr></thead>\n",
       "<tbody>\n",
       "\t<tr><th scope=row>tropicprice</th><td>41.29502    </td><td>5.784256e+15</td></tr>\n",
       "\t<tr><th scope=row>minuteprice</th><td>76.22415    </td><td>8.389089e+15</td></tr>\n",
       "\t<tr><th scope=row>dmnckprice</th><td>34.20661    </td><td>3.158594e+15</td></tr>\n",
       "\t<tr><th scope=row>tropicad</th><td>15.94628    </td><td>1.146455e+15</td></tr>\n",
       "\t<tr><th scope=row>mintead</th><td>50.79253    </td><td>3.658059e+15</td></tr>\n",
       "\t<tr><th scope=row>dunckad</th><td>25.85594    </td><td>3.217934e+14</td></tr>\n",
       "</tbody>\n",
       "</table>\n"
      ],
      "text/latex": [
       "\\begin{tabular}{r|ll}\n",
       "  & \\%IncMSE & IncNodePurity\\\\\n",
       "\\hline\n",
       "\ttropicprice & 41.29502     & 5.784256e+15\\\\\n",
       "\tminuteprice & 76.22415     & 8.389089e+15\\\\\n",
       "\tdmnckprice & 34.20661     & 3.158594e+15\\\\\n",
       "\ttropicad & 15.94628     & 1.146455e+15\\\\\n",
       "\tmintead & 50.79253     & 3.658059e+15\\\\\n",
       "\tdunckad & 25.85594     & 3.217934e+14\\\\\n",
       "\\end{tabular}\n"
      ],
      "text/markdown": [
       "\n",
       "| <!--/--> | %IncMSE | IncNodePurity |\n",
       "|---|---|---|\n",
       "| tropicprice | 41.29502     | 5.784256e+15 |\n",
       "| minuteprice | 76.22415     | 8.389089e+15 |\n",
       "| dmnckprice | 34.20661     | 3.158594e+15 |\n",
       "| tropicad | 15.94628     | 1.146455e+15 |\n",
       "| mintead | 50.79253     | 3.658059e+15 |\n",
       "| dunckad | 25.85594     | 3.217934e+14 |\n",
       "\n"
      ],
      "text/plain": [
       "            %IncMSE  IncNodePurity\n",
       "tropicprice 41.29502 5.784256e+15 \n",
       "minuteprice 76.22415 8.389089e+15 \n",
       "dmnckprice  34.20661 3.158594e+15 \n",
       "tropicad    15.94628 1.146455e+15 \n",
       "mintead     50.79253 3.658059e+15 \n",
       "dunckad     25.85594 3.217934e+14 "
      ]
     },
     "metadata": {},
     "output_type": "display_data"
    },
    {
     "data": {
      "image/png": "[encoded data removed]",
      "text/plain": [
       "plot without title"
      ]
     },
     "metadata": {},
     "output_type": "display_data"
    }
   ],
   "source": [
    "par(pin = c(3,2))\n",
    "par(mfrow=c(2,2))\n",
    "importance(model2)\n",
    "varImpPlot(model2)"
   ]
  },
  {
   "cell_type": "code",
   "execution_count": null,
   "id": "0c6af3da",
   "metadata": {},
   "outputs": [],
   "source": [
    "# model3 <- randomForest(minutevol~minuteprice+tropicad,data=train_set,importance=TRUE, ntree=3000)\n",
    "# summary(model3)\n",
    "# print(model3)"
   ]
  },
  {
   "cell_type": "code",
   "execution_count": 21,
   "id": "ce62835e",
   "metadata": {},
   "outputs": [
    {
     "name": "stdout",
     "output_type": "stream",
     "text": [
      "\n",
      "  There is a binary version available but the source version is later:\n",
      "         binary  source needs_compilation\n",
      "xgboost 1.4.1.1 1.6.0.1              TRUE\n",
      "\n",
      "  Binaries will be installed\n",
      "package 'xgboost' successfully unpacked and MD5 sums checked\n",
      "\n",
      "The downloaded binary packages are in\n",
      "\tC:\\Users\\meizhi\\AppData\\Local\\Temp\\RtmpgV11Em\\downloaded_packages\n",
      "\n",
      "  There is a binary version available but the source version is later:\n",
      "         binary  source needs_compilation\n",
      "xgboost 1.4.1.1 1.6.0.1              TRUE\n",
      "\n",
      "  Binaries will be installed\n",
      "package 'xgboost' successfully unpacked and MD5 sums checked\n",
      "\n",
      "The downloaded binary packages are in\n",
      "\tC:\\Users\\meizhi\\AppData\\Local\\Temp\\RtmpgV11Em\\downloaded_packages\n"
     ]
    },
    {
     "name": "stderr",
     "output_type": "stream",
     "text": [
      "Warning message:\n",
      "\"package 'xgboost' was built under R version 3.6.3\""
     ]
    }
   ],
   "source": [
    "install.packages('xgboost')\n",
    "install.packages(\"xgboost\")\n",
    "library(xgboost)"
   ]
  },
  {
   "cell_type": "code",
   "execution_count": 22,
   "id": "18f884d8",
   "metadata": {},
   "outputs": [
    {
     "data": {
      "text/html": [
       "<table>\n",
       "<thead><tr><th></th><th scope=col>minutevol</th><th scope=col>tropicprice</th><th scope=col>minuteprice</th><th scope=col>dmnckprice</th><th scope=col>tropicad</th><th scope=col>mintead</th><th scope=col>dunckad</th></tr></thead>\n",
       "<tbody>\n",
       "\t<tr><th scope=row>706</th><td>555008    </td><td>0.04981771</td><td>0.04364583</td><td>0.03152344</td><td>0         </td><td>0         </td><td>1         </td></tr>\n",
       "\t<tr><th scope=row>7995</th><td>538624    </td><td>0.04770833</td><td>0.03635417</td><td>0.02402344</td><td>0         </td><td>1         </td><td>1         </td></tr>\n",
       "\t<tr><th scope=row>8893</th><td>635904    </td><td>0.05585938</td><td>0.05127604</td><td>0.03152344</td><td>0         </td><td>0         </td><td>1         </td></tr>\n",
       "\t<tr><th scope=row>6797</th><td>350208    </td><td>0.04040841</td><td>0.03718750</td><td>0.03308594</td><td>0         </td><td>0         </td><td>0         </td></tr>\n",
       "\t<tr><th scope=row>6221</th><td>550912    </td><td>0.04184896</td><td>0.03718750</td><td>0.02214844</td><td>0         </td><td>0         </td><td>1         </td></tr>\n",
       "\t<tr><th scope=row>4721</th><td>909312    </td><td>0.04414063</td><td>0.03635417</td><td>0.02402344</td><td>0         </td><td>0         </td><td>1         </td></tr>\n",
       "</tbody>\n",
       "</table>\n"
      ],
      "text/latex": [
       "\\begin{tabular}{r|lllllll}\n",
       "  & minutevol & tropicprice & minuteprice & dmnckprice & tropicad & mintead & dunckad\\\\\n",
       "\\hline\n",
       "\t706 & 555008     & 0.04981771 & 0.04364583 & 0.03152344 & 0          & 0          & 1         \\\\\n",
       "\t7995 & 538624     & 0.04770833 & 0.03635417 & 0.02402344 & 0          & 1          & 1         \\\\\n",
       "\t8893 & 635904     & 0.05585938 & 0.05127604 & 0.03152344 & 0          & 0          & 1         \\\\\n",
       "\t6797 & 350208     & 0.04040841 & 0.03718750 & 0.03308594 & 0          & 0          & 0         \\\\\n",
       "\t6221 & 550912     & 0.04184896 & 0.03718750 & 0.02214844 & 0          & 0          & 1         \\\\\n",
       "\t4721 & 909312     & 0.04414063 & 0.03635417 & 0.02402344 & 0          & 0          & 1         \\\\\n",
       "\\end{tabular}\n"
      ],
      "text/markdown": [
       "\n",
       "| <!--/--> | minutevol | tropicprice | minuteprice | dmnckprice | tropicad | mintead | dunckad |\n",
       "|---|---|---|---|---|---|---|---|\n",
       "| 706 | 555008     | 0.04981771 | 0.04364583 | 0.03152344 | 0          | 0          | 1          |\n",
       "| 7995 | 538624     | 0.04770833 | 0.03635417 | 0.02402344 | 0          | 1          | 1          |\n",
       "| 8893 | 635904     | 0.05585938 | 0.05127604 | 0.03152344 | 0          | 0          | 1          |\n",
       "| 6797 | 350208     | 0.04040841 | 0.03718750 | 0.03308594 | 0          | 0          | 0          |\n",
       "| 6221 | 550912     | 0.04184896 | 0.03718750 | 0.02214844 | 0          | 0          | 1          |\n",
       "| 4721 | 909312     | 0.04414063 | 0.03635417 | 0.02402344 | 0          | 0          | 1          |\n",
       "\n"
      ],
      "text/plain": [
       "     minutevol tropicprice minuteprice dmnckprice tropicad mintead dunckad\n",
       "706  555008    0.04981771  0.04364583  0.03152344 0        0       1      \n",
       "7995 538624    0.04770833  0.03635417  0.02402344 0        1       1      \n",
       "8893 635904    0.05585938  0.05127604  0.03152344 0        0       1      \n",
       "6797 350208    0.04040841  0.03718750  0.03308594 0        0       0      \n",
       "6221 550912    0.04184896  0.03718750  0.02214844 0        0       1      \n",
       "4721 909312    0.04414063  0.03635417  0.02402344 0        0       1      "
      ]
     },
     "metadata": {},
     "output_type": "display_data"
    }
   ],
   "source": [
    "head(train_data)"
   ]
  },
  {
   "cell_type": "code",
   "execution_count": 23,
   "id": "117637d3",
   "metadata": {},
   "outputs": [
    {
     "data": {
      "text/plain": [
       "xgb.DMatrix  dim: 6754 x 6  info: label  colnames: yes"
      ]
     },
     "metadata": {},
     "output_type": "display_data"
    }
   ],
   "source": [
    "library(Matrix)\n",
    "library(xgboost)\n",
    "####训练集的数据预处理\n",
    "# 将自变量转化为矩阵\n",
    "traindata1 <- data.matrix(train_data[,2:7]) \n",
    "# 利用Matrix函数，将sparse参数设置为TRUE，转化为稀疏矩阵\n",
    "traindata2 <- Matrix(traindata1,sparse=T) \n",
    "traindata3 <- train_data[,1]\n",
    "# 将自变量和因变量拼接为list\n",
    "traindata4 <- list(data=traindata2,label=traindata3) \n",
    "# 构造模型需要的xgb.DMatrix对象，处理对象为稀疏矩阵\n",
    "dtrain <- xgb.DMatrix(data = traindata4$data, label = traindata4$label) \n",
    "dtrain"
   ]
  },
  {
   "cell_type": "code",
   "execution_count": 24,
   "id": "c1d888e9",
   "metadata": {},
   "outputs": [
    {
     "data": {
      "text/html": [
       "'numeric'"
      ],
      "text/latex": [
       "'numeric'"
      ],
      "text/markdown": [
       "'numeric'"
      ],
      "text/plain": [
       "[1] \"numeric\""
      ]
     },
     "metadata": {},
     "output_type": "display_data"
    },
    {
     "data": {
      "text/plain": [
       "xgb.DMatrix  dim: 2895 x 6  info: label  colnames: yes"
      ]
     },
     "metadata": {},
     "output_type": "display_data"
    }
   ],
   "source": [
    "####测试集的数据预处理\n",
    "# 将自变量转化为矩阵\n",
    "testdata1 <- data.matrix(test_data[,2:7]) \n",
    "# 利用Matrix函数，将sparse参数设置为TRUE，转化为稀疏矩阵\n",
    "testdata2 <- Matrix(testdata1,sparse=T) \n",
    "# 将因变量转化为numeric\n",
    "testdata3 <- test_data[,1]\n",
    "class(testdata3)\n",
    "# 将自变量和因变量拼接为list\n",
    "testdata4 <- list(data=testdata2,label=testdata3) \n",
    "# 构造模型需要的xgb.DMatrix对象，处理对象为稀疏矩阵\n",
    "dtest <- xgb.DMatrix(data = testdata4$data, label = testdata4$label) \n",
    "dtest"
   ]
  },
  {
   "cell_type": "code",
   "execution_count": 26,
   "id": "ff0df693",
   "metadata": {},
   "outputs": [
    {
     "name": "stdout",
     "output_type": "stream",
     "text": [
      "[1]\ttrain-rmse:1897347.625000 \n",
      "[2]\ttrain-rmse:1486986.125000 \n",
      "[3]\ttrain-rmse:1206920.375000 \n",
      "[4]\ttrain-rmse:1017748.437500 \n",
      "[5]\ttrain-rmse:890576.687500 \n",
      "[6]\ttrain-rmse:807342.000000 \n",
      "[7]\ttrain-rmse:751837.500000 \n",
      "[8]\ttrain-rmse:715082.562500 \n",
      "[9]\ttrain-rmse:690650.875000 \n",
      "[10]\ttrain-rmse:674072.562500 \n",
      "[11]\ttrain-rmse:662915.937500 \n",
      "[12]\ttrain-rmse:655083.187500 \n",
      "[13]\ttrain-rmse:649645.812500 \n",
      "[14]\ttrain-rmse:645852.437500 \n",
      "[15]\ttrain-rmse:643219.625000 \n",
      "[16]\ttrain-rmse:641366.062500 \n",
      "[17]\ttrain-rmse:640057.812500 \n",
      "[18]\ttrain-rmse:639127.312500 \n",
      "[19]\ttrain-rmse:638464.875000 \n",
      "[20]\ttrain-rmse:637992.187500 \n",
      "[21]\ttrain-rmse:637653.687500 \n",
      "[22]\ttrain-rmse:637410.187500 \n",
      "[23]\ttrain-rmse:637236.000000 \n",
      "[24]\ttrain-rmse:637110.875000 \n",
      "[25]\ttrain-rmse:637020.500000 \n",
      "[26]\ttrain-rmse:636955.687500 \n",
      "[27]\ttrain-rmse:636908.937500 \n",
      "[28]\ttrain-rmse:636875.437500 \n",
      "[29]\ttrain-rmse:636851.375000 \n",
      "[30]\ttrain-rmse:636834.000000 \n",
      "[31]\ttrain-rmse:636821.500000 \n",
      "[32]\ttrain-rmse:636812.375000 \n",
      "[33]\ttrain-rmse:636805.812500 \n",
      "[34]\ttrain-rmse:636801.187500 \n",
      "[35]\ttrain-rmse:636797.750000 \n",
      "[36]\ttrain-rmse:636795.312500 \n",
      "[37]\ttrain-rmse:636793.562500 \n",
      "[38]\ttrain-rmse:636792.312500 \n",
      "[39]\ttrain-rmse:636791.375000 \n",
      "[40]\ttrain-rmse:636790.750000 \n",
      "[41]\ttrain-rmse:636790.125000 \n",
      "[42]\ttrain-rmse:636789.812500 \n",
      "[43]\ttrain-rmse:636789.625000 \n",
      "[44]\ttrain-rmse:636789.437500 \n",
      "[45]\ttrain-rmse:636789.375000 \n",
      "[46]\ttrain-rmse:636789.250000 \n",
      "[47]\ttrain-rmse:636789.125000 \n",
      "[48]\ttrain-rmse:636789.125000 \n",
      "[49]\ttrain-rmse:636789.125000 \n",
      "[50]\ttrain-rmse:636789.125000 \n",
      "[51]\ttrain-rmse:636789.062500 \n",
      "[52]\ttrain-rmse:636789.062500 \n",
      "[53]\ttrain-rmse:636789.000000 \n",
      "[54]\ttrain-rmse:636789.062500 \n",
      "[55]\ttrain-rmse:636789.062500 \n",
      "[56]\ttrain-rmse:636789.062500 \n",
      "[57]\ttrain-rmse:636789.062500 \n",
      "[58]\ttrain-rmse:636789.000000 \n",
      "[59]\ttrain-rmse:636789.000000 \n",
      "[60]\ttrain-rmse:636789.000000 \n",
      "[61]\ttrain-rmse:636789.000000 \n",
      "[62]\ttrain-rmse:636789.000000 \n",
      "[63]\ttrain-rmse:636789.062500 \n",
      "[64]\ttrain-rmse:636789.062500 \n",
      "[65]\ttrain-rmse:636789.062500 \n",
      "[66]\ttrain-rmse:636789.062500 \n",
      "[67]\ttrain-rmse:636789.000000 \n",
      "[68]\ttrain-rmse:636789.062500 \n",
      "[69]\ttrain-rmse:636789.062500 \n",
      "[70]\ttrain-rmse:636789.062500 \n",
      "[71]\ttrain-rmse:636789.062500 \n",
      "[72]\ttrain-rmse:636789.062500 \n",
      "[73]\ttrain-rmse:636789.062500 \n",
      "[74]\ttrain-rmse:636789.062500 \n",
      "[75]\ttrain-rmse:636789.062500 \n",
      "[76]\ttrain-rmse:636789.062500 \n",
      "[77]\ttrain-rmse:636789.062500 \n",
      "[78]\ttrain-rmse:636789.062500 \n",
      "[79]\ttrain-rmse:636789.000000 \n",
      "[80]\ttrain-rmse:636789.062500 \n",
      "[81]\ttrain-rmse:636789.062500 \n",
      "[82]\ttrain-rmse:636789.062500 \n",
      "[83]\ttrain-rmse:636789.062500 \n",
      "[84]\ttrain-rmse:636789.062500 \n",
      "[85]\ttrain-rmse:636789.000000 \n",
      "[86]\ttrain-rmse:636789.062500 \n",
      "[87]\ttrain-rmse:636789.062500 \n",
      "[88]\ttrain-rmse:636789.062500 \n",
      "[89]\ttrain-rmse:636789.062500 \n",
      "[90]\ttrain-rmse:636789.062500 \n",
      "[91]\ttrain-rmse:636789.062500 \n",
      "[92]\ttrain-rmse:636789.062500 \n",
      "[93]\ttrain-rmse:636789.062500 \n",
      "[94]\ttrain-rmse:636789.062500 \n",
      "[95]\ttrain-rmse:636789.062500 \n",
      "[96]\ttrain-rmse:636789.062500 \n",
      "[97]\ttrain-rmse:636789.062500 \n",
      "[98]\ttrain-rmse:636789.062500 \n",
      "[99]\ttrain-rmse:636789.062500 \n",
      "[100]\ttrain-rmse:636789.062500 \n",
      "[101]\ttrain-rmse:636789.062500 \n",
      "[102]\ttrain-rmse:636789.062500 \n",
      "[103]\ttrain-rmse:636789.062500 \n",
      "[104]\ttrain-rmse:636789.062500 \n",
      "[105]\ttrain-rmse:636789.062500 \n",
      "[106]\ttrain-rmse:636789.062500 \n",
      "[107]\ttrain-rmse:636789.062500 \n",
      "[108]\ttrain-rmse:636789.000000 \n",
      "[109]\ttrain-rmse:636789.062500 \n",
      "[110]\ttrain-rmse:636789.062500 \n",
      "[111]\ttrain-rmse:636789.062500 \n",
      "[112]\ttrain-rmse:636789.000000 \n",
      "[113]\ttrain-rmse:636789.062500 \n",
      "[114]\ttrain-rmse:636789.062500 \n",
      "[115]\ttrain-rmse:636789.062500 \n",
      "[116]\ttrain-rmse:636789.062500 \n",
      "[117]\ttrain-rmse:636789.062500 \n",
      "[118]\ttrain-rmse:636789.062500 \n",
      "[119]\ttrain-rmse:636789.062500 \n",
      "[120]\ttrain-rmse:636789.062500 \n",
      "[121]\ttrain-rmse:636789.000000 \n",
      "[122]\ttrain-rmse:636789.000000 \n",
      "[123]\ttrain-rmse:636789.062500 \n",
      "[124]\ttrain-rmse:636789.000000 \n",
      "[125]\ttrain-rmse:636789.062500 \n",
      "[126]\ttrain-rmse:636789.000000 \n",
      "[127]\ttrain-rmse:636789.062500 \n",
      "[128]\ttrain-rmse:636789.062500 \n",
      "[129]\ttrain-rmse:636789.062500 \n",
      "[130]\ttrain-rmse:636789.062500 \n",
      "[131]\ttrain-rmse:636789.062500 \n",
      "[132]\ttrain-rmse:636789.062500 \n",
      "[133]\ttrain-rmse:636789.062500 \n",
      "[134]\ttrain-rmse:636789.062500 \n",
      "[135]\ttrain-rmse:636789.062500 \n",
      "[136]\ttrain-rmse:636789.000000 \n",
      "[137]\ttrain-rmse:636789.062500 \n",
      "[138]\ttrain-rmse:636789.062500 \n",
      "[139]\ttrain-rmse:636789.062500 \n",
      "[140]\ttrain-rmse:636789.062500 \n",
      "[141]\ttrain-rmse:636789.062500 \n",
      "[142]\ttrain-rmse:636789.062500 \n",
      "[143]\ttrain-rmse:636789.062500 \n",
      "[144]\ttrain-rmse:636789.062500 \n",
      "[145]\ttrain-rmse:636789.062500 \n",
      "[146]\ttrain-rmse:636789.062500 \n",
      "[147]\ttrain-rmse:636789.062500 \n",
      "[148]\ttrain-rmse:636789.062500 \n",
      "[149]\ttrain-rmse:636789.062500 \n",
      "[150]\ttrain-rmse:636789.062500 \n",
      "[151]\ttrain-rmse:636789.062500 \n",
      "[152]\ttrain-rmse:636789.062500 \n",
      "[153]\ttrain-rmse:636789.062500 \n",
      "[154]\ttrain-rmse:636789.062500 \n",
      "[155]\ttrain-rmse:636789.000000 \n",
      "[156]\ttrain-rmse:636789.062500 \n",
      "[157]\ttrain-rmse:636789.062500 \n",
      "[158]\ttrain-rmse:636789.062500 \n",
      "[159]\ttrain-rmse:636789.062500 \n",
      "[160]\ttrain-rmse:636789.062500 \n",
      "[161]\ttrain-rmse:636789.062500 \n",
      "[162]\ttrain-rmse:636789.062500 \n",
      "[163]\ttrain-rmse:636789.062500 \n",
      "[164]\ttrain-rmse:636789.062500 \n",
      "[165]\ttrain-rmse:636789.062500 \n",
      "[166]\ttrain-rmse:636789.062500 \n",
      "[167]\ttrain-rmse:636789.062500 \n",
      "[168]\ttrain-rmse:636789.062500 \n",
      "[169]\ttrain-rmse:636789.062500 \n",
      "[170]\ttrain-rmse:636789.062500 \n",
      "[171]\ttrain-rmse:636789.062500 \n",
      "[172]\ttrain-rmse:636789.062500 \n",
      "[173]\ttrain-rmse:636789.000000 \n",
      "[174]\ttrain-rmse:636789.125000 \n",
      "[175]\ttrain-rmse:636789.062500 \n",
      "[176]\ttrain-rmse:636789.062500 \n",
      "[177]\ttrain-rmse:636789.062500 \n",
      "[178]\ttrain-rmse:636789.062500 \n",
      "[179]\ttrain-rmse:636789.062500 \n",
      "[180]\ttrain-rmse:636789.062500 \n",
      "[181]\ttrain-rmse:636789.062500 \n",
      "[182]\ttrain-rmse:636789.062500 \n",
      "[183]\ttrain-rmse:636789.000000 \n",
      "[184]\ttrain-rmse:636789.062500 \n",
      "[185]\ttrain-rmse:636789.062500 \n",
      "[186]\ttrain-rmse:636789.062500 \n",
      "[187]\ttrain-rmse:636789.062500 \n",
      "[188]\ttrain-rmse:636789.062500 \n",
      "[189]\ttrain-rmse:636789.062500 \n",
      "[190]\ttrain-rmse:636789.062500 \n",
      "[191]\ttrain-rmse:636789.062500 \n",
      "[192]\ttrain-rmse:636789.062500 \n",
      "[193]\ttrain-rmse:636789.062500 \n",
      "[194]\ttrain-rmse:636789.062500 \n",
      "[195]\ttrain-rmse:636789.062500 \n",
      "[196]\ttrain-rmse:636789.062500 \n",
      "[197]\ttrain-rmse:636789.062500 \n",
      "[198]\ttrain-rmse:636789.062500 \n",
      "[199]\ttrain-rmse:636789.062500 \n",
      "[200]\ttrain-rmse:636789.062500 \n",
      "[201]\ttrain-rmse:636789.062500 \n",
      "[202]\ttrain-rmse:636789.062500 \n",
      "[203]\ttrain-rmse:636789.062500 \n",
      "[204]\ttrain-rmse:636789.062500 \n",
      "[205]\ttrain-rmse:636789.062500 \n",
      "[206]\ttrain-rmse:636789.062500 \n",
      "[207]\ttrain-rmse:636789.062500 \n",
      "[208]\ttrain-rmse:636789.062500 \n",
      "[209]\ttrain-rmse:636789.062500 \n",
      "[210]\ttrain-rmse:636789.062500 \n",
      "[211]\ttrain-rmse:636789.062500 \n",
      "[212]\ttrain-rmse:636789.062500 \n",
      "[213]\ttrain-rmse:636789.062500 \n",
      "[214]\ttrain-rmse:636789.062500 \n",
      "[215]\ttrain-rmse:636789.062500 \n",
      "[216]\ttrain-rmse:636789.062500 \n",
      "[217]\ttrain-rmse:636789.062500 \n",
      "[218]\ttrain-rmse:636789.062500 \n",
      "[219]\ttrain-rmse:636789.062500 \n",
      "[220]\ttrain-rmse:636789.062500 \n",
      "[221]\ttrain-rmse:636789.062500 \n",
      "[222]\ttrain-rmse:636789.062500 \n",
      "[223]\ttrain-rmse:636789.062500 \n",
      "[224]\ttrain-rmse:636789.062500 \n",
      "[225]\ttrain-rmse:636789.000000 \n",
      "[226]\ttrain-rmse:636789.062500 \n",
      "[227]\ttrain-rmse:636789.062500 \n",
      "[228]\ttrain-rmse:636789.062500 \n",
      "[229]\ttrain-rmse:636789.062500 \n",
      "[230]\ttrain-rmse:636789.062500 \n",
      "[231]\ttrain-rmse:636789.062500 \n",
      "[232]\ttrain-rmse:636789.062500 \n",
      "[233]\ttrain-rmse:636789.062500 \n",
      "[234]\ttrain-rmse:636789.062500 \n",
      "[235]\ttrain-rmse:636789.062500 \n",
      "[236]\ttrain-rmse:636789.062500 \n",
      "[237]\ttrain-rmse:636789.062500 \n",
      "[238]\ttrain-rmse:636789.062500 \n",
      "[239]\ttrain-rmse:636789.062500 \n",
      "[240]\ttrain-rmse:636789.062500 \n",
      "[241]\ttrain-rmse:636789.062500 \n",
      "[242]\ttrain-rmse:636789.000000 \n",
      "[243]\ttrain-rmse:636789.062500 \n",
      "[244]\ttrain-rmse:636789.062500 \n",
      "[245]\ttrain-rmse:636789.062500 \n",
      "[246]\ttrain-rmse:636789.062500 \n",
      "[247]\ttrain-rmse:636789.062500 \n",
      "[248]\ttrain-rmse:636789.062500 \n",
      "[249]\ttrain-rmse:636789.062500 \n",
      "[250]\ttrain-rmse:636789.062500 \n",
      "[251]\ttrain-rmse:636789.062500 \n",
      "[252]\ttrain-rmse:636789.062500 \n",
      "[253]\ttrain-rmse:636789.062500 \n",
      "[254]\ttrain-rmse:636789.062500 \n",
      "[255]\ttrain-rmse:636789.062500 \n",
      "[256]\ttrain-rmse:636789.062500 \n",
      "[257]\ttrain-rmse:636789.062500 \n",
      "[258]\ttrain-rmse:636789.062500 \n",
      "[259]\ttrain-rmse:636789.000000 \n",
      "[260]\ttrain-rmse:636789.062500 \n",
      "[261]\ttrain-rmse:636789.000000 \n",
      "[262]\ttrain-rmse:636789.062500 \n",
      "[263]\ttrain-rmse:636789.062500 \n",
      "[264]\ttrain-rmse:636789.000000 \n",
      "[265]\ttrain-rmse:636789.062500 \n",
      "[266]\ttrain-rmse:636789.062500 \n",
      "[267]\ttrain-rmse:636789.062500 \n",
      "[268]\ttrain-rmse:636789.062500 \n",
      "[269]\ttrain-rmse:636789.062500 \n",
      "[270]\ttrain-rmse:636789.062500 \n",
      "[271]\ttrain-rmse:636789.062500 \n",
      "[272]\ttrain-rmse:636789.062500 \n",
      "[273]\ttrain-rmse:636789.000000 \n",
      "[274]\ttrain-rmse:636789.062500 \n",
      "[275]\ttrain-rmse:636789.062500 \n",
      "[276]\ttrain-rmse:636789.062500 \n",
      "[277]\ttrain-rmse:636789.000000 \n",
      "[278]\ttrain-rmse:636789.000000 \n",
      "[279]\ttrain-rmse:636789.062500 \n",
      "[280]\ttrain-rmse:636789.062500 \n",
      "[281]\ttrain-rmse:636789.062500 \n",
      "[282]\ttrain-rmse:636789.062500 \n",
      "[283]\ttrain-rmse:636789.062500 \n",
      "[284]\ttrain-rmse:636789.062500 \n",
      "[285]\ttrain-rmse:636789.062500 \n",
      "[286]\ttrain-rmse:636789.062500 \n",
      "[287]\ttrain-rmse:636789.062500 \n",
      "[288]\ttrain-rmse:636789.000000 \n",
      "[289]\ttrain-rmse:636789.062500 \n",
      "[290]\ttrain-rmse:636789.000000 \n",
      "[291]\ttrain-rmse:636789.062500 \n",
      "[292]\ttrain-rmse:636789.062500 \n",
      "[293]\ttrain-rmse:636789.062500 \n",
      "[294]\ttrain-rmse:636789.000000 \n",
      "[295]\ttrain-rmse:636789.062500 \n",
      "[296]\ttrain-rmse:636789.062500 \n",
      "[297]\ttrain-rmse:636789.062500 \n",
      "[298]\ttrain-rmse:636789.062500 \n",
      "[299]\ttrain-rmse:636789.062500 \n",
      "[300]\ttrain-rmse:636789.062500 \n",
      "[301]\ttrain-rmse:636789.062500 \n",
      "[302]\ttrain-rmse:636789.062500 \n",
      "[303]\ttrain-rmse:636789.062500 \n",
      "[304]\ttrain-rmse:636789.062500 \n",
      "[305]\ttrain-rmse:636789.062500 \n",
      "[306]\ttrain-rmse:636789.062500 \n",
      "[307]\ttrain-rmse:636789.062500 \n",
      "[308]\ttrain-rmse:636789.062500 \n",
      "[309]\ttrain-rmse:636789.062500 \n",
      "[310]\ttrain-rmse:636789.062500 \n",
      "[311]\ttrain-rmse:636789.062500 \n",
      "[312]\ttrain-rmse:636789.062500 \n",
      "[313]\ttrain-rmse:636789.062500 \n",
      "[314]\ttrain-rmse:636789.062500 \n",
      "[315]\ttrain-rmse:636789.062500 \n",
      "[316]\ttrain-rmse:636789.062500 \n",
      "[317]\ttrain-rmse:636789.062500 \n",
      "[318]\ttrain-rmse:636789.000000 \n",
      "[319]\ttrain-rmse:636789.062500 \n",
      "[320]\ttrain-rmse:636789.062500 \n",
      "[321]\ttrain-rmse:636789.062500 \n",
      "[322]\ttrain-rmse:636789.062500 \n",
      "[323]\ttrain-rmse:636789.062500 \n",
      "[324]\ttrain-rmse:636789.000000 \n",
      "[325]\ttrain-rmse:636789.000000 \n",
      "[326]\ttrain-rmse:636789.062500 \n",
      "[327]\ttrain-rmse:636789.062500 \n",
      "[328]\ttrain-rmse:636789.062500 \n",
      "[329]\ttrain-rmse:636789.062500 \n",
      "[330]\ttrain-rmse:636789.062500 \n",
      "[331]\ttrain-rmse:636789.062500 \n",
      "[332]\ttrain-rmse:636789.062500 \n",
      "[333]\ttrain-rmse:636789.062500 \n",
      "[334]\ttrain-rmse:636789.062500 \n",
      "[335]\ttrain-rmse:636789.062500 \n",
      "[336]\ttrain-rmse:636789.062500 \n",
      "[337]\ttrain-rmse:636789.062500 \n",
      "[338]\ttrain-rmse:636789.062500 \n",
      "[339]\ttrain-rmse:636789.062500 \n",
      "[340]\ttrain-rmse:636789.062500 \n",
      "[341]\ttrain-rmse:636789.062500 \n",
      "[342]\ttrain-rmse:636789.062500 \n",
      "[343]\ttrain-rmse:636789.062500 \n",
      "[344]\ttrain-rmse:636789.062500 \n",
      "[345]\ttrain-rmse:636789.062500 \n",
      "[346]\ttrain-rmse:636789.062500 \n",
      "[347]\ttrain-rmse:636789.062500 \n",
      "[348]\ttrain-rmse:636789.062500 \n",
      "[349]\ttrain-rmse:636789.062500 \n",
      "[350]\ttrain-rmse:636789.062500 \n",
      "[351]\ttrain-rmse:636789.062500 \n",
      "[352]\ttrain-rmse:636789.062500 \n",
      "[353]\ttrain-rmse:636789.062500 \n",
      "[354]\ttrain-rmse:636789.062500 \n",
      "[355]\ttrain-rmse:636789.062500 \n",
      "[356]\ttrain-rmse:636789.062500 \n",
      "[357]\ttrain-rmse:636789.062500 \n",
      "[358]\ttrain-rmse:636789.062500 \n",
      "[359]\ttrain-rmse:636789.062500 \n",
      "[360]\ttrain-rmse:636789.062500 \n",
      "[361]\ttrain-rmse:636789.062500 \n",
      "[362]\ttrain-rmse:636789.062500 \n",
      "[363]\ttrain-rmse:636789.062500 \n",
      "[364]\ttrain-rmse:636789.000000 \n",
      "[365]\ttrain-rmse:636789.062500 \n",
      "[366]\ttrain-rmse:636789.062500 \n",
      "[367]\ttrain-rmse:636789.062500 \n",
      "[368]\ttrain-rmse:636789.062500 \n",
      "[369]\ttrain-rmse:636789.062500 \n",
      "[370]\ttrain-rmse:636789.062500 \n",
      "[371]\ttrain-rmse:636789.062500 \n",
      "[372]\ttrain-rmse:636789.062500 \n",
      "[373]\ttrain-rmse:636789.000000 \n",
      "[374]\ttrain-rmse:636789.062500 \n",
      "[375]\ttrain-rmse:636789.062500 \n",
      "[376]\ttrain-rmse:636789.000000 \n",
      "[377]\ttrain-rmse:636789.062500 \n",
      "[378]\ttrain-rmse:636789.062500 \n",
      "[379]\ttrain-rmse:636789.062500 \n",
      "[380]\ttrain-rmse:636789.062500 \n",
      "[381]\ttrain-rmse:636789.062500 \n",
      "[382]\ttrain-rmse:636789.062500 \n",
      "[383]\ttrain-rmse:636789.062500 \n",
      "[384]\ttrain-rmse:636789.062500 \n",
      "[385]\ttrain-rmse:636789.062500 \n",
      "[386]\ttrain-rmse:636789.062500 \n",
      "[387]\ttrain-rmse:636789.062500 \n",
      "[388]\ttrain-rmse:636789.062500 \n",
      "[389]\ttrain-rmse:636789.062500 \n",
      "[390]\ttrain-rmse:636789.062500 \n",
      "[391]\ttrain-rmse:636789.062500 \n",
      "[392]\ttrain-rmse:636789.062500 \n",
      "[393]\ttrain-rmse:636789.062500 \n",
      "[394]\ttrain-rmse:636789.062500 \n",
      "[395]\ttrain-rmse:636789.062500 \n",
      "[396]\ttrain-rmse:636789.062500 \n",
      "[397]\ttrain-rmse:636789.062500 \n",
      "[398]\ttrain-rmse:636789.062500 \n",
      "[399]\ttrain-rmse:636789.062500 \n",
      "[400]\ttrain-rmse:636789.062500 \n",
      "[401]\ttrain-rmse:636789.062500 \n",
      "[402]\ttrain-rmse:636789.062500 \n",
      "[403]\ttrain-rmse:636789.062500 \n",
      "[404]\ttrain-rmse:636789.062500 \n",
      "[405]\ttrain-rmse:636789.062500 \n",
      "[406]\ttrain-rmse:636789.062500 \n",
      "[407]\ttrain-rmse:636789.062500 \n",
      "[408]\ttrain-rmse:636789.062500 \n",
      "[409]\ttrain-rmse:636789.062500 \n",
      "[410]\ttrain-rmse:636789.062500 \n",
      "[411]\ttrain-rmse:636789.062500 \n",
      "[412]\ttrain-rmse:636789.062500 \n",
      "[413]\ttrain-rmse:636789.062500 \n",
      "[414]\ttrain-rmse:636789.062500 \n",
      "[415]\ttrain-rmse:636789.062500 \n",
      "[416]\ttrain-rmse:636789.062500 \n",
      "[417]\ttrain-rmse:636789.000000 \n",
      "[418]\ttrain-rmse:636789.062500 \n",
      "[419]\ttrain-rmse:636789.062500 \n",
      "[420]\ttrain-rmse:636789.062500 \n",
      "[421]\ttrain-rmse:636789.062500 \n",
      "[422]\ttrain-rmse:636789.062500 \n",
      "[423]\ttrain-rmse:636789.062500 \n",
      "[424]\ttrain-rmse:636789.062500 \n",
      "[425]\ttrain-rmse:636789.062500 \n",
      "[426]\ttrain-rmse:636789.062500 \n",
      "[427]\ttrain-rmse:636789.062500 \n",
      "[428]\ttrain-rmse:636789.062500 \n",
      "[429]\ttrain-rmse:636789.062500 \n",
      "[430]\ttrain-rmse:636789.062500 \n",
      "[431]\ttrain-rmse:636789.062500 \n",
      "[432]\ttrain-rmse:636789.062500 \n",
      "[433]\ttrain-rmse:636789.062500 \n",
      "[434]\ttrain-rmse:636789.062500 \n",
      "[435]\ttrain-rmse:636789.062500 \n",
      "[436]\ttrain-rmse:636789.062500 \n",
      "[437]\ttrain-rmse:636789.062500 \n",
      "[438]\ttrain-rmse:636789.062500 \n",
      "[439]\ttrain-rmse:636789.062500 \n",
      "[440]\ttrain-rmse:636789.062500 \n",
      "[441]\ttrain-rmse:636789.062500 \n",
      "[442]\ttrain-rmse:636789.062500 \n",
      "[443]\ttrain-rmse:636789.062500 \n",
      "[444]\ttrain-rmse:636789.062500 \n",
      "[445]\ttrain-rmse:636789.062500 \n",
      "[446]\ttrain-rmse:636789.062500 \n",
      "[447]\ttrain-rmse:636789.062500 \n",
      "[448]\ttrain-rmse:636789.062500 \n",
      "[449]\ttrain-rmse:636789.062500 \n",
      "[450]\ttrain-rmse:636789.062500 \n",
      "[451]\ttrain-rmse:636789.062500 \n",
      "[452]\ttrain-rmse:636789.062500 \n",
      "[453]\ttrain-rmse:636789.062500 \n",
      "[454]\ttrain-rmse:636789.062500 \n",
      "[455]\ttrain-rmse:636789.062500 \n",
      "[456]\ttrain-rmse:636789.062500 \n",
      "[457]\ttrain-rmse:636789.062500 \n",
      "[458]\ttrain-rmse:636789.062500 \n",
      "[459]\ttrain-rmse:636789.062500 \n",
      "[460]\ttrain-rmse:636789.000000 \n",
      "[461]\ttrain-rmse:636789.062500 \n",
      "[462]\ttrain-rmse:636789.062500 \n",
      "[463]\ttrain-rmse:636789.062500 \n",
      "[464]\ttrain-rmse:636789.062500 \n",
      "[465]\ttrain-rmse:636789.000000 \n",
      "[466]\ttrain-rmse:636789.062500 \n",
      "[467]\ttrain-rmse:636789.062500 \n",
      "[468]\ttrain-rmse:636789.062500 \n",
      "[469]\ttrain-rmse:636789.062500 \n",
      "[470]\ttrain-rmse:636789.000000 \n",
      "[471]\ttrain-rmse:636789.062500 \n",
      "[472]\ttrain-rmse:636789.062500 \n",
      "[473]\ttrain-rmse:636789.062500 \n",
      "[474]\ttrain-rmse:636789.000000 \n",
      "[475]\ttrain-rmse:636789.062500 \n",
      "[476]\ttrain-rmse:636789.062500 \n",
      "[477]\ttrain-rmse:636789.062500 \n",
      "[478]\ttrain-rmse:636789.062500 \n",
      "[479]\ttrain-rmse:636789.062500 \n",
      "[480]\ttrain-rmse:636789.062500 \n",
      "[481]\ttrain-rmse:636789.062500 \n",
      "[482]\ttrain-rmse:636789.062500 \n",
      "[483]\ttrain-rmse:636789.000000 \n",
      "[484]\ttrain-rmse:636789.000000 \n",
      "[485]\ttrain-rmse:636789.062500 \n",
      "[486]\ttrain-rmse:636789.062500 \n",
      "[487]\ttrain-rmse:636789.062500 \n",
      "[488]\ttrain-rmse:636789.062500 \n",
      "[489]\ttrain-rmse:636789.062500 \n",
      "[490]\ttrain-rmse:636789.062500 \n",
      "[491]\ttrain-rmse:636789.062500 \n",
      "[492]\ttrain-rmse:636789.062500 \n",
      "[493]\ttrain-rmse:636789.062500 \n",
      "[494]\ttrain-rmse:636789.000000 \n",
      "[495]\ttrain-rmse:636789.000000 \n",
      "[496]\ttrain-rmse:636789.062500 \n",
      "[497]\ttrain-rmse:636789.062500 \n",
      "[498]\ttrain-rmse:636789.062500 \n",
      "[499]\ttrain-rmse:636789.062500 \n",
      "[500]\ttrain-rmse:636789.062500 \n",
      "[501]\ttrain-rmse:636789.062500 \n",
      "[502]\ttrain-rmse:636789.062500 \n",
      "[503]\ttrain-rmse:636789.062500 \n",
      "[504]\ttrain-rmse:636789.062500 \n",
      "[505]\ttrain-rmse:636789.062500 \n",
      "[506]\ttrain-rmse:636789.062500 \n",
      "[507]\ttrain-rmse:636789.000000 \n",
      "[508]\ttrain-rmse:636789.062500 \n",
      "[509]\ttrain-rmse:636789.062500 \n",
      "[510]\ttrain-rmse:636789.062500 \n",
      "[511]\ttrain-rmse:636789.062500 \n",
      "[512]\ttrain-rmse:636789.062500 \n",
      "[513]\ttrain-rmse:636789.062500 \n",
      "[514]\ttrain-rmse:636789.062500 \n",
      "[515]\ttrain-rmse:636789.062500 \n",
      "[516]\ttrain-rmse:636789.062500 \n",
      "[517]\ttrain-rmse:636789.000000 \n",
      "[518]\ttrain-rmse:636789.062500 \n",
      "[519]\ttrain-rmse:636789.000000 \n",
      "[520]\ttrain-rmse:636789.062500 \n",
      "[521]\ttrain-rmse:636789.000000 \n",
      "[522]\ttrain-rmse:636789.062500 \n",
      "[523]\ttrain-rmse:636789.062500 \n",
      "[524]\ttrain-rmse:636789.000000 \n",
      "[525]\ttrain-rmse:636789.062500 \n",
      "[526]\ttrain-rmse:636789.000000 \n",
      "[527]\ttrain-rmse:636789.062500 \n",
      "[528]\ttrain-rmse:636789.062500 \n",
      "[529]\ttrain-rmse:636789.062500 \n",
      "[530]\ttrain-rmse:636789.062500 \n",
      "[531]\ttrain-rmse:636789.062500 \n",
      "[532]\ttrain-rmse:636789.000000 \n",
      "[533]\ttrain-rmse:636789.062500 \n",
      "[534]\ttrain-rmse:636789.062500 \n",
      "[535]\ttrain-rmse:636789.062500 \n",
      "[536]\ttrain-rmse:636789.000000 \n",
      "[537]\ttrain-rmse:636789.062500 \n",
      "[538]\ttrain-rmse:636789.062500 \n",
      "[539]\ttrain-rmse:636789.000000 \n",
      "[540]\ttrain-rmse:636789.062500 \n",
      "[541]\ttrain-rmse:636789.062500 \n",
      "[542]\ttrain-rmse:636789.062500 \n",
      "[543]\ttrain-rmse:636789.062500 \n",
      "[544]\ttrain-rmse:636789.062500 \n",
      "[545]\ttrain-rmse:636789.062500 \n",
      "[546]\ttrain-rmse:636789.062500 \n",
      "[547]\ttrain-rmse:636789.062500 \n",
      "[548]\ttrain-rmse:636789.062500 \n",
      "[549]\ttrain-rmse:636789.062500 \n",
      "[550]\ttrain-rmse:636789.062500 \n",
      "[551]\ttrain-rmse:636789.062500 \n",
      "[552]\ttrain-rmse:636789.062500 \n",
      "[553]\ttrain-rmse:636789.000000 \n",
      "[554]\ttrain-rmse:636789.062500 \n",
      "[555]\ttrain-rmse:636789.062500 \n",
      "[556]\ttrain-rmse:636789.062500 \n",
      "[557]\ttrain-rmse:636789.062500 \n",
      "[558]\ttrain-rmse:636789.062500 \n",
      "[559]\ttrain-rmse:636789.062500 \n",
      "[560]\ttrain-rmse:636789.062500 \n",
      "[561]\ttrain-rmse:636789.062500 \n",
      "[562]\ttrain-rmse:636789.062500 \n",
      "[563]\ttrain-rmse:636789.062500 \n",
      "[564]\ttrain-rmse:636789.062500 \n",
      "[565]\ttrain-rmse:636789.062500 \n",
      "[566]\ttrain-rmse:636789.062500 \n",
      "[567]\ttrain-rmse:636789.062500 \n",
      "[568]\ttrain-rmse:636789.062500 \n",
      "[569]\ttrain-rmse:636789.062500 \n",
      "[570]\ttrain-rmse:636789.062500 \n",
      "[571]\ttrain-rmse:636789.062500 \n",
      "[572]\ttrain-rmse:636789.062500 \n",
      "[573]\ttrain-rmse:636789.062500 \n",
      "[574]\ttrain-rmse:636789.062500 \n",
      "[575]\ttrain-rmse:636789.062500 \n",
      "[576]\ttrain-rmse:636789.062500 \n",
      "[577]\ttrain-rmse:636789.062500 \n",
      "[578]\ttrain-rmse:636789.062500 \n",
      "[579]\ttrain-rmse:636789.062500 \n",
      "[580]\ttrain-rmse:636789.062500 \n",
      "[581]\ttrain-rmse:636789.062500 \n",
      "[582]\ttrain-rmse:636789.062500 \n",
      "[583]\ttrain-rmse:636789.062500 \n",
      "[584]\ttrain-rmse:636789.062500 \n",
      "[585]\ttrain-rmse:636789.062500 \n",
      "[586]\ttrain-rmse:636789.062500 \n",
      "[587]\ttrain-rmse:636789.062500 \n",
      "[588]\ttrain-rmse:636789.062500 \n",
      "[589]\ttrain-rmse:636789.062500 \n",
      "[590]\ttrain-rmse:636789.062500 \n",
      "[591]\ttrain-rmse:636789.062500 \n",
      "[592]\ttrain-rmse:636789.000000 \n",
      "[593]\ttrain-rmse:636789.062500 \n",
      "[594]\ttrain-rmse:636789.062500 \n",
      "[595]\ttrain-rmse:636789.062500 \n",
      "[596]\ttrain-rmse:636789.000000 \n",
      "[597]\ttrain-rmse:636789.062500 \n",
      "[598]\ttrain-rmse:636789.062500 \n",
      "[599]\ttrain-rmse:636789.062500 \n",
      "[600]\ttrain-rmse:636789.062500 \n"
     ]
    }
   ],
   "source": [
    "xgb <- xgboost(data = dtrain,max_depth=5000, eta=0.3, nround=600)\n"
   ]
  },
  {
   "cell_type": "code",
   "execution_count": 29,
   "id": "a6922273",
   "metadata": {},
   "outputs": [],
   "source": [
    "#对测试集进行预测\n",
    "#对测试集进行预测\n",
    "fit3 <- round(predict(xgb,dtest))\n"
   ]
  },
  {
   "cell_type": "code",
   "execution_count": 33,
   "id": "53464499",
   "metadata": {},
   "outputs": [],
   "source": [
    "set <- data.frame(pred = fit3, actual = test_data$minutevol)\n"
   ]
  },
  {
   "cell_type": "code",
   "execution_count": 34,
   "id": "9c897eea",
   "metadata": {},
   "outputs": [
    {
     "data": {
      "text/html": [
       "11104.4936053724"
      ],
      "text/latex": [
       "11104.4936053724"
      ],
      "text/markdown": [
       "11104.4936053724"
      ],
      "text/plain": [
       "[1] 11104.49"
      ]
     },
     "metadata": {},
     "output_type": "display_data"
    }
   ],
   "source": [
    "#calculate MSE\n",
    "mean((set$actual - set$pred))"
   ]
  },
  {
   "cell_type": "code",
   "execution_count": null,
   "id": "dc683d7c",
   "metadata": {},
   "outputs": [],
   "source": []
  },
  {
   "cell_type": "code",
   "execution_count": null,
   "id": "289af218",
   "metadata": {},
   "outputs": [],
   "source": []
  },
  {
   "cell_type": "code",
   "execution_count": null,
   "id": "5f3922ce",
   "metadata": {},
   "outputs": [],
   "source": [
    "\n"
   ]
  },
  {
   "cell_type": "code",
   "execution_count": null,
   "id": "560e7051",
   "metadata": {},
   "outputs": [],
   "source": []
  }
 ],
 "metadata": {
  "kernelspec": {
   "display_name": "Python 3 (ipykernel)",
   "language": "python",
   "name": "python3"
  },
  "language_info": {
   "codemirror_mode": {
    "name": "ipython",
    "version": 3
   },
   "file_extension": ".py",
   "mimetype": "text/x-python",
   "name": "python",
   "nbconvert_exporter": "python",
   "pygments_lexer": "ipython3",
   "version": "3.9.7"
  }
 },
 "nbformat": 4,
 "nbformat_minor": 5
}
